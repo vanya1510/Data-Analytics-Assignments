{
 "cells": [
  {
   "cell_type": "raw",
   "id": "3642db62-690d-4d84-ada0-c4a75a388877",
   "metadata": {},
   "source": [
    "## QUESTION 1\n",
    "## Explain the key features of python that make it a popular choice for programming.\n",
    "\n",
    "## SOLUTION\n",
    "~ It is widely used in industry as it is easy to understand and execute.\n",
    "~ It is widely used in data industry as it is easy write and execute code. It is compatible with various programming paradigms,such as procedural,object-oriented and functional programming.\n",
    "~ Python has a large and active community of developers,an extensive standard library, and third party packages for various domains. It has 137000 libraries.\n",
    "~ It is a general purpose language. One can develop any amount of software one wants. One can work on frontend,backend and data analysis.\n",
    "~ It can be used for automation, image processing, interaction with databases,etc.\n"
   ]
  },
  {
   "cell_type": "raw",
   "id": "f6e7d3b3-12b2-4c0b-b8ab-e667c03bffd0",
   "metadata": {},
   "source": [
    "## QUESTION 2\n",
    "## Describe the role of predefined keywords in Python and provide examples of how they are used in a program.\n",
    "\n",
    "## SOLUTION\n",
    "Keywords are predefined words that hold a special meaning and have specific purpose in python programming. They are reserved words in Python that have special meanings and cannot be used as identifiers(variable names,function names,etc). Keywords are case-sensitive and cannot be redefined or overridden within a Python program.\n",
    "The purpose of keyword is to define the syntax of the code.\n"
   ]
  },
  {
   "cell_type": "code",
   "execution_count": 2,
   "id": "86864606-0214-4008-9c89-7aef02bc7e9f",
   "metadata": {},
   "outputs": [
    {
     "name": "stdout",
     "output_type": "stream",
     "text": [
      "\n",
      "Here is a list of the Python keywords.  Enter any keyword to get more help.\n",
      "\n",
      "False               class               from                or\n",
      "None                continue            global              pass\n",
      "True                def                 if                  raise\n",
      "and                 del                 import              return\n",
      "as                  elif                in                  try\n",
      "assert              else                is                  while\n",
      "async               except              lambda              with\n",
      "await               finally             nonlocal            yield\n",
      "break               for                 not                 \n",
      "\n"
     ]
    }
   ],
   "source": [
    "# The list of keywords in Python are as follows-\n",
    "help(\"keywords\")"
   ]
  },
  {
   "cell_type": "code",
   "execution_count": 3,
   "id": "547b7c7e-6391-4e27-b603-e8665bb1bd07",
   "metadata": {},
   "outputs": [
    {
     "name": "stdout",
     "output_type": "stream",
     "text": [
      "grade B\n"
     ]
    }
   ],
   "source": [
    "# Some examples of how keywords are used in python program are-\n",
    "# Use of if,elif and else keywords-\n",
    "score=80\n",
    "if score>=90:\n",
    "    print(\"grade A\")\n",
    "elif(80<=score<90):\n",
    "    print(\"grade B\")\n",
    "elif(70<=score<80):\n",
    "    print(\"grade C\")\n",
    "else:\n",
    "    print(\"grade D\")\n",
    "    "
   ]
  },
  {
   "cell_type": "code",
   "execution_count": 4,
   "id": "3370f80a-010c-453e-b81c-13f202159914",
   "metadata": {},
   "outputs": [
    {
     "data": {
      "text/plain": [
       "1"
      ]
     },
     "execution_count": 4,
     "metadata": {},
     "output_type": "execute_result"
    }
   ],
   "source": [
    "# Use of True and False keywords\n",
    "True+False"
   ]
  },
  {
   "cell_type": "code",
   "execution_count": null,
   "id": "db47c9d9-23bb-4c4d-9105-a11f99ae088f",
   "metadata": {},
   "outputs": [],
   "source": []
  },
  {
   "cell_type": "code",
   "execution_count": 6,
   "id": "cf177b37-bd5f-42d9-92d5-2ed9dc9cbf75",
   "metadata": {
    "tags": []
   },
   "outputs": [
    {
     "name": "stdout",
     "output_type": "stream",
     "text": [
      "5\n",
      "4\n",
      "3\n",
      "2\n",
      "1\n"
     ]
    }
   ],
   "source": [
    "# Use of while\n",
    "count=5\n",
    "while count>0:\n",
    "    print(count)\n",
    "    count=count-1"
   ]
  },
  {
   "cell_type": "code",
   "execution_count": null,
   "id": "52fe8eac-aa21-436f-9e24-a9f76f6ec36d",
   "metadata": {},
   "outputs": [],
   "source": []
  }
 ],
 "metadata": {
  "kernelspec": {
   "display_name": "Python 3 (ipykernel)",
   "language": "python",
   "name": "python3"
  },
  "language_info": {
   "codemirror_mode": {
    "name": "ipython",
    "version": 3
   },
   "file_extension": ".py",
   "mimetype": "text/x-python",
   "name": "python",
   "nbconvert_exporter": "python",
   "pygments_lexer": "ipython3",
   "version": "3.10.8"
  }
 },
 "nbformat": 4,
 "nbformat_minor": 5
}
