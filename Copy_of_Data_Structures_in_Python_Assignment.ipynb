{
  "nbformat": 4,
  "nbformat_minor": 0,
  "metadata": {
    "colab": {
      "provenance": [],
      "authorship_tag": "ABX9TyNB/A/ADwqhZrexVSJ/iYJ2",
      "include_colab_link": true
    },
    "kernelspec": {
      "name": "python3",
      "display_name": "Python 3"
    },
    "language_info": {
      "name": "python"
    }
  },
  "cells": [
    {
      "cell_type": "markdown",
      "metadata": {
        "id": "view-in-github",
        "colab_type": "text"
      },
      "source": [
        "<a href=\"https://colab.research.google.com/github/vanya1510/Data-Analytics-Assignments/blob/main/Copy_of_Data_Structures_in_Python_Assignment.ipynb\" target=\"_parent\"><img src=\"https://colab.research.google.com/assets/colab-badge.svg\" alt=\"Open In Colab\"/></a>"
      ]
    },
    {
      "cell_type": "markdown",
      "source": [
        "**Assignment Module 5 - Python - Data Types and Structures**"
      ],
      "metadata": {
        "id": "OZPMq3lM5QSy"
      }
    },
    {
      "cell_type": "markdown",
      "source": [
        "**Ques- Discuss string slicing and provide examples.**"
      ],
      "metadata": {
        "id": "Gh9agkEQ53-T"
      }
    },
    {
      "cell_type": "markdown",
      "source": [
        "Ans- Characters arranged in an unchangeable order are called Strings. Each character in the string can be accessed by its index or position. Substrings can be extracted using slicing.\n",
        "The following are the examples of string slicing-"
      ],
      "metadata": {
        "id": "a-iYaaut6fpB"
      }
    },
    {
      "cell_type": "code",
      "source": [
        "a=\"Apple\""
      ],
      "metadata": {
        "id": "5x9Vrn9Y7Cka"
      },
      "execution_count": null,
      "outputs": []
    },
    {
      "cell_type": "code",
      "source": [
        "a[1]"
      ],
      "metadata": {
        "colab": {
          "base_uri": "https://localhost:8080/",
          "height": 35
        },
        "id": "JbaG1haA7Ny5",
        "outputId": "36bb2aff-8b83-4723-f898-df9e06291ce5"
      },
      "execution_count": null,
      "outputs": [
        {
          "output_type": "execute_result",
          "data": {
            "text/plain": [
              "'p'"
            ],
            "application/vnd.google.colaboratory.intrinsic+json": {
              "type": "string"
            }
          },
          "metadata": {},
          "execution_count": 2
        }
      ]
    },
    {
      "cell_type": "code",
      "source": [
        "a[-2]"
      ],
      "metadata": {
        "colab": {
          "base_uri": "https://localhost:8080/",
          "height": 35
        },
        "id": "qNAmVcrM7WUN",
        "outputId": "5bb39dd3-b5f0-4df4-e6bd-49186e5e7d2e"
      },
      "execution_count": null,
      "outputs": [
        {
          "output_type": "execute_result",
          "data": {
            "text/plain": [
              "'l'"
            ],
            "application/vnd.google.colaboratory.intrinsic+json": {
              "type": "string"
            }
          },
          "metadata": {},
          "execution_count": 3
        }
      ]
    },
    {
      "cell_type": "code",
      "source": [
        "# When you enter an index which does not exist then it will throw an error.\n",
        "a[6]"
      ],
      "metadata": {
        "colab": {
          "base_uri": "https://localhost:8080/",
          "height": 159
        },
        "id": "D23s9mOF7aTw",
        "outputId": "cfad75a3-2426-4e18-b2ae-c0f412980115"
      },
      "execution_count": null,
      "outputs": [
        {
          "output_type": "error",
          "ename": "IndexError",
          "evalue": "string index out of range",
          "traceback": [
            "\u001b[0;31m---------------------------------------------------------------------------\u001b[0m",
            "\u001b[0;31mIndexError\u001b[0m                                Traceback (most recent call last)",
            "\u001b[0;32m<ipython-input-4-ad4a5d58f938>\u001b[0m in \u001b[0;36m<cell line: 2>\u001b[0;34m()\u001b[0m\n\u001b[1;32m      1\u001b[0m \u001b[0;31m# When you enter an index which does not exist then it will throw an error.\u001b[0m\u001b[0;34m\u001b[0m\u001b[0;34m\u001b[0m\u001b[0m\n\u001b[0;32m----> 2\u001b[0;31m \u001b[0ma\u001b[0m\u001b[0;34m[\u001b[0m\u001b[0;36m6\u001b[0m\u001b[0;34m]\u001b[0m\u001b[0;34m\u001b[0m\u001b[0;34m\u001b[0m\u001b[0m\n\u001b[0m",
            "\u001b[0;31mIndexError\u001b[0m: string index out of range"
          ]
        }
      ]
    },
    {
      "cell_type": "code",
      "source": [
        "string1=\"I am a good student\""
      ],
      "metadata": {
        "id": "Dqy1AxzX7vhG"
      },
      "execution_count": null,
      "outputs": []
    },
    {
      "cell_type": "code",
      "source": [
        "#To get 'I am', follow the syntax given below-\n",
        "string1[0:4] #4 is exclusive."
      ],
      "metadata": {
        "colab": {
          "base_uri": "https://localhost:8080/",
          "height": 35
        },
        "id": "V2hZfzaY77Un",
        "outputId": "9a545f51-810f-40e4-ea78-2bd2e62307f6"
      },
      "execution_count": null,
      "outputs": [
        {
          "output_type": "execute_result",
          "data": {
            "text/plain": [
              "'I am'"
            ],
            "application/vnd.google.colaboratory.intrinsic+json": {
              "type": "string"
            }
          },
          "metadata": {},
          "execution_count": 6
        }
      ]
    },
    {
      "cell_type": "code",
      "source": [
        "string1[5:12]"
      ],
      "metadata": {
        "colab": {
          "base_uri": "https://localhost:8080/",
          "height": 35
        },
        "id": "SdRdNi9k9z__",
        "outputId": "8ca9bb5f-2f79-4066-db19-9177e8199861"
      },
      "execution_count": null,
      "outputs": [
        {
          "output_type": "execute_result",
          "data": {
            "text/plain": [
              "'a good '"
            ],
            "application/vnd.google.colaboratory.intrinsic+json": {
              "type": "string"
            }
          },
          "metadata": {},
          "execution_count": 7
        }
      ]
    },
    {
      "cell_type": "code",
      "source": [
        "#start index:end index. If you do not provide end index,it will by default give the substring till last index.\n",
        "string1[13:]"
      ],
      "metadata": {
        "colab": {
          "base_uri": "https://localhost:8080/",
          "height": 35
        },
        "id": "D8vckOLJ99jq",
        "outputId": "f5695d1c-3f23-4579-962c-dc894cd2f744"
      },
      "execution_count": null,
      "outputs": [
        {
          "output_type": "execute_result",
          "data": {
            "text/plain": [
              "'tudent'"
            ],
            "application/vnd.google.colaboratory.intrinsic+json": {
              "type": "string"
            }
          },
          "metadata": {},
          "execution_count": 8
        }
      ]
    },
    {
      "cell_type": "code",
      "source": [
        "# If you want all the characters except last 3 characters.\n",
        "string1[:-3]"
      ],
      "metadata": {
        "colab": {
          "base_uri": "https://localhost:8080/",
          "height": 35
        },
        "id": "AqPp3X2M-UJ_",
        "outputId": "542ef816-1da7-4a82-eddb-e744af468a3c"
      },
      "execution_count": null,
      "outputs": [
        {
          "output_type": "execute_result",
          "data": {
            "text/plain": [
              "'I am a good stud'"
            ],
            "application/vnd.google.colaboratory.intrinsic+json": {
              "type": "string"
            }
          },
          "metadata": {},
          "execution_count": 9
        }
      ]
    },
    {
      "cell_type": "code",
      "source": [
        "# To get last 3 characters.\n",
        "string1[-3:]"
      ],
      "metadata": {
        "colab": {
          "base_uri": "https://localhost:8080/",
          "height": 35
        },
        "id": "eSyeQEAw-oNu",
        "outputId": "e0706ea7-bcd4-4b7f-a3d8-b6113a896145"
      },
      "execution_count": null,
      "outputs": [
        {
          "output_type": "execute_result",
          "data": {
            "text/plain": [
              "'ent'"
            ],
            "application/vnd.google.colaboratory.intrinsic+json": {
              "type": "string"
            }
          },
          "metadata": {},
          "execution_count": 10
        }
      ]
    },
    {
      "cell_type": "code",
      "source": [
        "string2= 'Hello World'"
      ],
      "metadata": {
        "id": "TvFt-Dle-vwY"
      },
      "execution_count": null,
      "outputs": []
    },
    {
      "cell_type": "code",
      "source": [
        "# By default, step is 1. To get step as 2.\n",
        "string2[1:8:2]"
      ],
      "metadata": {
        "colab": {
          "base_uri": "https://localhost:8080/",
          "height": 35
        },
        "id": "DzwtrRlB_BrB",
        "outputId": "9b25b66b-d207-458d-afb8-84ca0898286c"
      },
      "execution_count": null,
      "outputs": [
        {
          "output_type": "execute_result",
          "data": {
            "text/plain": [
              "'el o'"
            ],
            "application/vnd.google.colaboratory.intrinsic+json": {
              "type": "string"
            }
          },
          "metadata": {},
          "execution_count": 12
        }
      ]
    },
    {
      "cell_type": "code",
      "source": [
        "# When you don't give start and end index but define the steps.\n",
        "string2[::3]"
      ],
      "metadata": {
        "colab": {
          "base_uri": "https://localhost:8080/",
          "height": 35
        },
        "id": "GMleqarl_Og-",
        "outputId": "9f744a64-4e94-4ba3-c780-864eb80bf38b"
      },
      "execution_count": null,
      "outputs": [
        {
          "output_type": "execute_result",
          "data": {
            "text/plain": [
              "'HlWl'"
            ],
            "application/vnd.google.colaboratory.intrinsic+json": {
              "type": "string"
            }
          },
          "metadata": {},
          "execution_count": 13
        }
      ]
    },
    {
      "cell_type": "code",
      "source": [
        "# To iterate over a string in reverse order that is to start from end and move to the beginning and move backward by the number of steps defined.\n",
        "string2[::-1]"
      ],
      "metadata": {
        "colab": {
          "base_uri": "https://localhost:8080/",
          "height": 35
        },
        "id": "G8LOeNeQ_g8P",
        "outputId": "74c8647b-e4c1-440a-e5ed-52915bc6f108"
      },
      "execution_count": null,
      "outputs": [
        {
          "output_type": "execute_result",
          "data": {
            "text/plain": [
              "'dlroW olleH'"
            ],
            "application/vnd.google.colaboratory.intrinsic+json": {
              "type": "string"
            }
          },
          "metadata": {},
          "execution_count": 14
        }
      ]
    },
    {
      "cell_type": "markdown",
      "source": [
        "**Ques- Explain the key features of lists in Python.**"
      ],
      "metadata": {
        "id": "6_SFUdesAEvf"
      }
    },
    {
      "cell_type": "markdown",
      "source": [
        "Lists are ordered,mutable collections of elements. They can hold items of various data types(numbers,strings,even other lists).\n",
        "One can add,remove or modify elements within a list using indexing and slicing. Lists are versatile for storing and managing collections that might change.\n",
        "Features of lists in Python are-"
      ],
      "metadata": {
        "id": "v4djy7-DCUp1"
      }
    },
    {
      "cell_type": "code",
      "source": [
        "# Example\n",
        "grocery_list=[ 'milk','bread','butter','eggs',3.14,True,5]"
      ],
      "metadata": {
        "id": "jW0I-wMuJXTn"
      },
      "execution_count": null,
      "outputs": []
    },
    {
      "cell_type": "markdown",
      "source": [
        "**Ques- Describe how to access,modify and delete elements in a list with examples.**"
      ],
      "metadata": {
        "id": "W1HwhXECdijy"
      }
    },
    {
      "cell_type": "code",
      "source": [
        "# List Slicing\n",
        "grocery_list[1: ]"
      ],
      "metadata": {
        "colab": {
          "base_uri": "https://localhost:8080/"
        },
        "id": "ih8ons4jaruI",
        "outputId": "6cdacf1d-d8b9-4e48-d314-d2a1022a641f"
      },
      "execution_count": null,
      "outputs": [
        {
          "output_type": "execute_result",
          "data": {
            "text/plain": [
              "['bread', 'butter', 'eggs', 3.14, True, 5]"
            ]
          },
          "metadata": {},
          "execution_count": 6
        }
      ]
    },
    {
      "cell_type": "code",
      "source": [
        "#Use of indexing\n",
        "grocery_list[3]"
      ],
      "metadata": {
        "colab": {
          "base_uri": "https://localhost:8080/",
          "height": 35
        },
        "id": "lV5nDEufbo4G",
        "outputId": "19e8b365-07d1-438c-d83a-effde73a072a"
      },
      "execution_count": null,
      "outputs": [
        {
          "output_type": "execute_result",
          "data": {
            "text/plain": [
              "'eggs'"
            ],
            "application/vnd.google.colaboratory.intrinsic+json": {
              "type": "string"
            }
          },
          "metadata": {},
          "execution_count": 7
        }
      ]
    },
    {
      "cell_type": "code",
      "source": [
        "# To add an element or character in list.\n",
        "grocery_list.append('rice')"
      ],
      "metadata": {
        "id": "bCtPrCGecISz"
      },
      "execution_count": null,
      "outputs": []
    },
    {
      "cell_type": "code",
      "source": [
        "#List is mutable.\n",
        "grocery_list[0]='yogurt'"
      ],
      "metadata": {
        "id": "kvawULHocQ-w"
      },
      "execution_count": null,
      "outputs": []
    },
    {
      "cell_type": "code",
      "source": [
        "grocery_list"
      ],
      "metadata": {
        "colab": {
          "base_uri": "https://localhost:8080/"
        },
        "id": "65PgpVnzcaDh",
        "outputId": "90ae90a1-5871-4104-e197-157f032e8b31"
      },
      "execution_count": null,
      "outputs": [
        {
          "output_type": "execute_result",
          "data": {
            "text/plain": [
              "['yogurt', 'bread', 'butter', 'eggs', 3.14, True, 5, 'rice']"
            ]
          },
          "metadata": {},
          "execution_count": 11
        }
      ]
    },
    {
      "cell_type": "code",
      "source": [
        "#To append(add) some item at definite position or definite index.\n",
        "grocery_list.insert(2,'cheese')"
      ],
      "metadata": {
        "id": "Oi5h7IZ5chYI"
      },
      "execution_count": null,
      "outputs": []
    },
    {
      "cell_type": "code",
      "source": [
        "brothers_grocery_list=['rice,wheat,sugar']"
      ],
      "metadata": {
        "id": "-60xeWt5c0tT"
      },
      "execution_count": null,
      "outputs": []
    },
    {
      "cell_type": "code",
      "source": [
        "# To append elements from another list\n",
        "grocery_list.extend(brothers_grocery_list)"
      ],
      "metadata": {
        "id": "ofORRPy7dGOt"
      },
      "execution_count": null,
      "outputs": []
    },
    {
      "cell_type": "code",
      "source": [
        "#Concatenation of string. It will create new list. It will not extend the existing list as done by \"Extend\" function.\n",
        "grocery_list+brothers_grocery_list"
      ],
      "metadata": {
        "colab": {
          "base_uri": "https://localhost:8080/"
        },
        "id": "DVhvD9xsdXQp",
        "outputId": "d1184014-7d5c-4452-b94c-7a3d471f2e7f"
      },
      "execution_count": null,
      "outputs": [
        {
          "output_type": "execute_result",
          "data": {
            "text/plain": [
              "['yogurt',\n",
              " 'bread',\n",
              " 'cheese',\n",
              " 'butter',\n",
              " 'eggs',\n",
              " 3.14,\n",
              " True,\n",
              " 5,\n",
              " 'rice',\n",
              " 'rice,wheat,sugar',\n",
              " 'rice,wheat,sugar']"
            ]
          },
          "metadata": {},
          "execution_count": 16
        }
      ]
    },
    {
      "cell_type": "markdown",
      "source": [
        "**Ques- Compare and contrast tuples and lists with examples.**"
      ],
      "metadata": {
        "id": "1jC9_TM0W8b_"
      }
    },
    {
      "cell_type": "markdown",
      "source": [
        "Lists are ordered mutable collections of elements. List can hold items of various data types(numbers, strings,even other lists)whereas tuples are ordered, immutable collections of elements,similar to lists. However, once created, the items in a tuple cannot be changed. They provide a secure way to store data that shouldn't be modified. Examples of lists and tuples are as follows-"
      ],
      "metadata": {
        "id": "euTM1CHKYV6r"
      }
    },
    {
      "cell_type": "code",
      "source": [
        "list_1=[1,2.1,True,3+4j,'Apple']\n"
      ],
      "metadata": {
        "id": "OU73q6JGZLa2"
      },
      "execution_count": null,
      "outputs": []
    },
    {
      "cell_type": "code",
      "source": [
        "tuple_1=(1,2.1,True,3+4j,'Apple')"
      ],
      "metadata": {
        "id": "Y2wvgXW_ZS77"
      },
      "execution_count": null,
      "outputs": []
    },
    {
      "cell_type": "markdown",
      "source": [
        "One can add,remove or modify elements within a list using indexing and slicing. Lists are versatile for storing and managing collections that might change. On the other hand, one can access elements using indexing and slicing within a tuple but cannot modify the content. Tuples are useful for representing fixed databases or configurations. Following examples provide the clear understanding of the same-"
      ],
      "metadata": {
        "id": "jzomo_oxbAY9"
      }
    },
    {
      "cell_type": "code",
      "source": [
        "# Accessing of elements in list\n",
        "list_1[2]"
      ],
      "metadata": {
        "colab": {
          "base_uri": "https://localhost:8080/"
        },
        "id": "niEldINTd8he",
        "outputId": "b310e611-65c9-4268-a773-9e02fc611652"
      },
      "execution_count": null,
      "outputs": [
        {
          "output_type": "execute_result",
          "data": {
            "text/plain": [
              "True"
            ]
          },
          "metadata": {},
          "execution_count": 4
        }
      ]
    },
    {
      "cell_type": "code",
      "source": [
        "# Adding elements in list\n",
        "list_1.append('Orange')"
      ],
      "metadata": {
        "id": "Uh6tkXpReE1M"
      },
      "execution_count": null,
      "outputs": []
    },
    {
      "cell_type": "code",
      "source": [
        "# modifying elements in list\n",
        "list_1[0]=5"
      ],
      "metadata": {
        "id": "wCFFcy43eK_m"
      },
      "execution_count": null,
      "outputs": []
    },
    {
      "cell_type": "code",
      "source": [
        "# Accessing elements in tuple\n",
        "tuple_1[2]"
      ],
      "metadata": {
        "colab": {
          "base_uri": "https://localhost:8080/"
        },
        "id": "KQPKqiULeQhc",
        "outputId": "35d35327-ca0c-4e0e-91d9-b1070d557459"
      },
      "execution_count": null,
      "outputs": [
        {
          "output_type": "execute_result",
          "data": {
            "text/plain": [
              "True"
            ]
          },
          "metadata": {},
          "execution_count": 7
        }
      ]
    },
    {
      "cell_type": "code",
      "source": [
        "# Modifying elements in tuple\n",
        "tuple_1[0]=5"
      ],
      "metadata": {
        "colab": {
          "base_uri": "https://localhost:8080/",
          "height": 159
        },
        "id": "n-sc186ReXyD",
        "outputId": "2760ba32-349c-41ac-fb19-04a6702c91f7"
      },
      "execution_count": null,
      "outputs": [
        {
          "output_type": "error",
          "ename": "TypeError",
          "evalue": "'tuple' object does not support item assignment",
          "traceback": [
            "\u001b[0;31m---------------------------------------------------------------------------\u001b[0m",
            "\u001b[0;31mTypeError\u001b[0m                                 Traceback (most recent call last)",
            "\u001b[0;32m<ipython-input-8-5763252e7411>\u001b[0m in \u001b[0;36m<cell line: 2>\u001b[0;34m()\u001b[0m\n\u001b[1;32m      1\u001b[0m \u001b[0;31m# Modifying elements in tuple\u001b[0m\u001b[0;34m\u001b[0m\u001b[0;34m\u001b[0m\u001b[0m\n\u001b[0;32m----> 2\u001b[0;31m \u001b[0mtuple_1\u001b[0m\u001b[0;34m[\u001b[0m\u001b[0;36m0\u001b[0m\u001b[0;34m]\u001b[0m\u001b[0;34m=\u001b[0m\u001b[0;36m5\u001b[0m\u001b[0;34m\u001b[0m\u001b[0;34m\u001b[0m\u001b[0m\n\u001b[0m",
            "\u001b[0;31mTypeError\u001b[0m: 'tuple' object does not support item assignment"
          ]
        }
      ]
    },
    {
      "cell_type": "markdown",
      "source": [
        "**Analogy for lists**- Imagine a shopping cart where you can add new items,remove unwanted ones,or change quantities. Lists offer this flexibility in data.\n",
        "**Analogy for tuples**- Imagine a museum exhibit with artifacts in a fixed display case. These artifacts(data) are fixed in their place(immutable) and cannot be rearranged or removed, ensuring their preservation."
      ],
      "metadata": {
        "id": "1LFtcdiAeoTh"
      }
    },
    {
      "cell_type": "markdown",
      "source": [
        "**Ques- Describe the key features of sets and provide the examples of their use.**"
      ],
      "metadata": {
        "id": "ZICQyNsrfz8J"
      }
    },
    {
      "cell_type": "markdown",
      "source": [
        "Sets are unordered collections of unique elements. The order doen't matter and duplicate entries are not allowed. Sets are useful for checking membership(if an item exists) or finding the intersection/difference between sets.\n",
        "One can add or remove elements from a set but cannot access elements by index(since order doesnt matter). Set operations like union(combining elements),intersection(finding common elements) and difference(finding elements in one set but not the other) are efficient."
      ],
      "metadata": {
        "id": "w2KwYsjBgDox"
      }
    },
    {
      "cell_type": "code",
      "source": [
        "set_1={1,2.1,True,3+4j,'Apple'}"
      ],
      "metadata": {
        "id": "n_zwO0N2hIp7"
      },
      "execution_count": null,
      "outputs": []
    },
    {
      "cell_type": "code",
      "source": [
        "Hotel1_Membership={'John','Alice','Bob','Eve'}"
      ],
      "metadata": {
        "id": "V_vzCJbUhLwx"
      },
      "execution_count": null,
      "outputs": []
    },
    {
      "cell_type": "code",
      "source": [
        "Hotel2_Membership={'David','Eve','Frank','Grace'}"
      ],
      "metadata": {
        "id": "d0p4koCwj9Pq"
      },
      "execution_count": null,
      "outputs": []
    },
    {
      "cell_type": "code",
      "source": [
        "#To include all the members of both hotels in one set\n",
        "Hotels_Membership=Hotel1_Membership | (Hotel2_Membership)"
      ],
      "metadata": {
        "id": "aY67KnH7kBSZ"
      },
      "execution_count": null,
      "outputs": []
    },
    {
      "cell_type": "code",
      "source": [
        "Hotels_Membership"
      ],
      "metadata": {
        "colab": {
          "base_uri": "https://localhost:8080/"
        },
        "id": "36Al-x3EkVsd",
        "outputId": "68922839-68a7-4b2a-f983-a2d4070c57fe"
      },
      "execution_count": null,
      "outputs": [
        {
          "output_type": "execute_result",
          "data": {
            "text/plain": [
              "{'Alice', 'Bob', 'David', 'Eve', 'Frank', 'Grace', 'John'}"
            ]
          },
          "metadata": {},
          "execution_count": 15
        }
      ]
    },
    {
      "cell_type": "code",
      "source": [
        "#To know about common members of both hotels\n",
        "Hotel1_Membership & Hotel2_Membership"
      ],
      "metadata": {
        "colab": {
          "base_uri": "https://localhost:8080/"
        },
        "id": "KQibHWQXkhbg",
        "outputId": "108488fb-d486-4ebb-d725-e6629cb0ca69"
      },
      "execution_count": null,
      "outputs": [
        {
          "output_type": "execute_result",
          "data": {
            "text/plain": [
              "{'Eve'}"
            ]
          },
          "metadata": {},
          "execution_count": 16
        }
      ]
    },
    {
      "cell_type": "code",
      "source": [
        "# Difference\n",
        "Hotel1_Membership - Hotel2_Membership"
      ],
      "metadata": {
        "colab": {
          "base_uri": "https://localhost:8080/"
        },
        "id": "MoXcWG2um2NY",
        "outputId": "56e2ec84-41a3-4627-8648-f9ca57cbdcca"
      },
      "execution_count": null,
      "outputs": [
        {
          "output_type": "execute_result",
          "data": {
            "text/plain": [
              "{'Alice', 'Bob', 'John'}"
            ]
          },
          "metadata": {},
          "execution_count": 17
        }
      ]
    },
    {
      "cell_type": "code",
      "source": [
        "#Symmetric Difference\n",
        "Hotel1_Membership ^ Hotel2_Membership"
      ],
      "metadata": {
        "colab": {
          "base_uri": "https://localhost:8080/"
        },
        "id": "ncDK7JsYm7_4",
        "outputId": "38aa1ac7-2f51-4b7c-ff25-9e9406b3fa81"
      },
      "execution_count": null,
      "outputs": [
        {
          "output_type": "execute_result",
          "data": {
            "text/plain": [
              "{'Alice', 'Bob', 'David', 'Frank', 'Grace', 'John'}"
            ]
          },
          "metadata": {},
          "execution_count": 19
        }
      ]
    },
    {
      "cell_type": "markdown",
      "source": [
        "**Ques- Discuss the use cases of tuples and sets in python programming.**"
      ],
      "metadata": {
        "id": "fKWd0iIcnEof"
      }
    },
    {
      "cell_type": "markdown",
      "source": [
        "**Use cases of tuples in Python Programming**\n",
        "\n",
        "1- Representing Immutable Data\n",
        "\n",
        "When you have data that should not be changed,such as configuration settings,geographic coordinates,or database records,tuples are ideal because their elements cannot be modified after creation.\n",
        "\n",
        "2- Storing heterogeneous data\n",
        "\n",
        "Tuples can store a sequence of elements of different data types, making them suitable for representing structured data like database rows or coordinates.\n",
        "\n",
        "3- Using as dictionary keys\n",
        "\n",
        "Since tuples are immutable,they can be used as keys in dictionaries if all their elements are also immutable. This allows you to create dictionaries with tuples as keys.\n",
        "\n",
        "4- Improving Performance\n",
        "\n",
        "Tuples are generally more memory-efficient than lists because they are immutable and don't need to allocate extra memory for resizing.\n",
        "\n",
        "\n",
        "\n",
        "**Use cases of sets in Python Programming**\n",
        "\n",
        "1- Removing Duplicates\n",
        "\n",
        "Sets automatically eliminate duplicates, making them useful for cleaning up lists or other collections that may contain repeated elements.\n",
        "\n",
        "2- Mathematical Operations\n",
        "\n",
        "Sets support operations like union and intersection, which are beneficial in data analysis and comparisons.\n",
        "\n",
        "3- Membership Testing\n",
        "\n",
        "Sets provide efficient membership testing, allowing quick checks for the existence of elements.\n",
        "\n"
      ],
      "metadata": {
        "id": "q1OftyxAnqqj"
      }
    },
    {
      "cell_type": "markdown",
      "source": [
        "Ques- Discuss how to add, modify and delete items in a dictionary with examples."
      ],
      "metadata": {
        "id": "f3czBJN47HXL"
      }
    },
    {
      "cell_type": "markdown",
      "source": [
        "The description of dictionaries is as follows-\n",
        "\n",
        "**Unordered Collections-** Elements are not stored in a specific order.\n",
        "\n",
        "**Flexible Data-** Keys and values can be of various data types(keys,numbers,strings,even other dictionaries).\n",
        "\n",
        "**Unique Key value pairs-** Each key acts as a unique identifier for retrieving an associated value.\n",
        "\n",
        "The operations of dictionaries are as follows-"
      ],
      "metadata": {
        "id": "2wK4VWGE8o3U"
      }
    },
    {
      "cell_type": "code",
      "source": [
        "dictionary_1={'Name':'John','Age':25,'City':'New York'}"
      ],
      "metadata": {
        "id": "C16u-uiG-Fca"
      },
      "execution_count": null,
      "outputs": []
    },
    {
      "cell_type": "code",
      "source": [
        "#To access an value in a dictionary, we use keys which act as index.\n",
        "dictionary_1['Name']"
      ],
      "metadata": {
        "colab": {
          "base_uri": "https://localhost:8080/",
          "height": 35
        },
        "id": "NJSdnaqw-xH-",
        "outputId": "bf2483cc-1a16-4218-cbbf-673caef0c88a"
      },
      "execution_count": null,
      "outputs": [
        {
          "output_type": "execute_result",
          "data": {
            "text/plain": [
              "'John'"
            ],
            "application/vnd.google.colaboratory.intrinsic+json": {
              "type": "string"
            }
          },
          "metadata": {},
          "execution_count": 35
        }
      ]
    },
    {
      "cell_type": "code",
      "source": [
        "#To add a key value pair in a dictionary.\n",
        "dictionary_1['Gender']='Male'"
      ],
      "metadata": {
        "id": "0O2KPApI-4jV"
      },
      "execution_count": null,
      "outputs": []
    },
    {
      "cell_type": "code",
      "source": [
        "#To know about length/number of elements in a dictionary.\n",
        "len(dictionary_1)"
      ],
      "metadata": {
        "colab": {
          "base_uri": "https://localhost:8080/"
        },
        "id": "tyl4CREn_fMa",
        "outputId": "6be16bf0-962a-4526-af0d-eeb5c61554e2"
      },
      "execution_count": null,
      "outputs": [
        {
          "output_type": "execute_result",
          "data": {
            "text/plain": [
              "4"
            ]
          },
          "metadata": {},
          "execution_count": 37
        }
      ]
    },
    {
      "cell_type": "code",
      "source": [
        "#To know about all the keys in a dictionary.\n",
        "dictionary_1.keys()"
      ],
      "metadata": {
        "colab": {
          "base_uri": "https://localhost:8080/"
        },
        "id": "_OTmdi2cAK5p",
        "outputId": "4278f721-dea7-42a8-ad84-64fc50b2c945"
      },
      "execution_count": null,
      "outputs": [
        {
          "output_type": "execute_result",
          "data": {
            "text/plain": [
              "dict_keys(['Name', 'Age', 'City', 'Gender'])"
            ]
          },
          "metadata": {},
          "execution_count": 38
        }
      ]
    },
    {
      "cell_type": "code",
      "source": [
        "#To know about all the values in a dictionary.\n",
        "dictionary_1.values()"
      ],
      "metadata": {
        "colab": {
          "base_uri": "https://localhost:8080/"
        },
        "id": "0xTJ2RtjBK48",
        "outputId": "98ad0c33-2b2a-41c7-9d2e-f86c8ee315c4"
      },
      "execution_count": null,
      "outputs": [
        {
          "output_type": "execute_result",
          "data": {
            "text/plain": [
              "dict_values(['John', 25, 'New York', 'Male'])"
            ]
          },
          "metadata": {},
          "execution_count": 39
        }
      ]
    },
    {
      "cell_type": "code",
      "source": [
        "#To copy a dictionary.\n",
        "dictionary_2=dictionary_1.copy()"
      ],
      "metadata": {
        "id": "ZFGAIS8CBS0d"
      },
      "execution_count": null,
      "outputs": []
    },
    {
      "cell_type": "code",
      "source": [
        "#To remove a key value pair.\n",
        "dictionary_1.pop('Age')"
      ],
      "metadata": {
        "colab": {
          "base_uri": "https://localhost:8080/"
        },
        "id": "bbbCZtUbBYgY",
        "outputId": "2f6c7f0b-4bfd-4588-812d-b41e645feaa1"
      },
      "execution_count": null,
      "outputs": [
        {
          "output_type": "execute_result",
          "data": {
            "text/plain": [
              "25"
            ]
          },
          "metadata": {},
          "execution_count": 41
        }
      ]
    },
    {
      "cell_type": "code",
      "source": [
        "#To clear all key value pairs of dictionary.\n",
        "dictionary_1.clear()"
      ],
      "metadata": {
        "id": "dQVjjafqBi1l"
      },
      "execution_count": null,
      "outputs": []
    },
    {
      "cell_type": "code",
      "source": [
        "#To delete whole dictionary.\n",
        "del dictionary_2"
      ],
      "metadata": {
        "id": "eR_TUl_kBtiw"
      },
      "execution_count": null,
      "outputs": []
    },
    {
      "cell_type": "markdown",
      "source": [
        "Ques- Discuss the importance of dictionary keys being immutable and provide examples."
      ],
      "metadata": {
        "id": "MOszlOTMB1At"
      }
    },
    {
      "cell_type": "markdown",
      "source": [
        "**Consistency-** Immutable keys like strings or numbers don't change, so Python can always find the data correctly.\n",
        "\n",
        "**Efficiency-** Immutable keys allow Python to look up values quickly and accurately.\n",
        "\n",
        "**Hashing-** Python uses a method called hashing to find values in a dictionary quickly. If a key changes,its hash would change,and Python wouldn't be able to find it."
      ],
      "metadata": {
        "id": "qsD1yGUME1T5"
      }
    },
    {
      "cell_type": "code",
      "source": [
        "dictionary_1"
      ],
      "metadata": {
        "colab": {
          "base_uri": "https://localhost:8080/"
        },
        "id": "XBsSeWGbCdpj",
        "outputId": "5d80b14d-2e0a-45cb-8fbf-104d7f5eb948"
      },
      "execution_count": null,
      "outputs": [
        {
          "output_type": "execute_result",
          "data": {
            "text/plain": [
              "{}"
            ]
          },
          "metadata": {},
          "execution_count": 44
        }
      ]
    },
    {
      "cell_type": "code",
      "source": [
        "dictionary_1={'Name':'John','Age':25,'City':'New York'}\n",
        "#Here the keys are strings,integers and tuples, all of which are immutable."
      ],
      "metadata": {
        "id": "W6yNFe6SFx9t"
      },
      "execution_count": null,
      "outputs": []
    },
    {
      "cell_type": "code",
      "source": [
        "#Lists are immutable and cannot be used as dictionary keys and will cause error.\n",
        "dictionary_1={[1,2,3]: \"list\" }"
      ],
      "metadata": {
        "colab": {
          "base_uri": "https://localhost:8080/",
          "height": 159
        },
        "id": "8YbqTgG3GCeX",
        "outputId": "12b095d0-a6e6-49c8-d156-eedb8b345a4c"
      },
      "execution_count": null,
      "outputs": [
        {
          "output_type": "error",
          "ename": "TypeError",
          "evalue": "unhashable type: 'list'",
          "traceback": [
            "\u001b[0;31m---------------------------------------------------------------------------\u001b[0m",
            "\u001b[0;31mTypeError\u001b[0m                                 Traceback (most recent call last)",
            "\u001b[0;32m<ipython-input-50-0e4f698939b2>\u001b[0m in \u001b[0;36m<cell line: 2>\u001b[0;34m()\u001b[0m\n\u001b[1;32m      1\u001b[0m \u001b[0;31m#Lists are immutable and cannot be used as dictionary keys and will cause error.\u001b[0m\u001b[0;34m\u001b[0m\u001b[0;34m\u001b[0m\u001b[0m\n\u001b[0;32m----> 2\u001b[0;31m \u001b[0mdictionary_1\u001b[0m\u001b[0;34m=\u001b[0m\u001b[0;34m{\u001b[0m\u001b[0;34m[\u001b[0m\u001b[0;36m1\u001b[0m\u001b[0;34m,\u001b[0m\u001b[0;36m2\u001b[0m\u001b[0;34m,\u001b[0m\u001b[0;36m3\u001b[0m\u001b[0;34m]\u001b[0m\u001b[0;34m:\u001b[0m \u001b[0;34m\"list\"\u001b[0m \u001b[0;34m}\u001b[0m\u001b[0;34m\u001b[0m\u001b[0;34m\u001b[0m\u001b[0m\n\u001b[0m",
            "\u001b[0;31mTypeError\u001b[0m: unhashable type: 'list'"
          ]
        }
      ]
    },
    {
      "cell_type": "code",
      "source": [],
      "metadata": {
        "id": "idF4KTgsGgo8"
      },
      "execution_count": null,
      "outputs": []
    }
  ]
}