{
 "cells": [
  {
   "cell_type": "raw",
   "id": "3642db62-690d-4d84-ada0-c4a75a388877",
   "metadata": {},
   "source": [
    "## QUESTION 1\n",
    "## Explain the key features of python that make it a popular choice for programming.\n",
    "\n",
    "## SOLUTION\n",
    "~ It is widely used in industry as it is easy to understand and execute.\n",
    "~ It is widely used in data industry as it is easy write and execute code. It is compatible with various programming paradigms,such as procedural,object-oriented and functional programming.\n",
    "~ Python has a large and active community of developers,an extensive standard library, and third party packages for various domains. It has 137000 libraries.\n",
    "~ It is a general purpose language. One can develop any amount of software one wants. One can work on frontend,backend and data analysis.\n",
    "~ It can be used for automation, image processing, interaction with databases,etc.\n"
   ]
  },
  {
   "cell_type": "raw",
   "id": "f6e7d3b3-12b2-4c0b-b8ab-e667c03bffd0",
   "metadata": {},
   "source": [
    "## QUESTION 2\n",
    "## Describe the role of predefined keywords in Python and provide examples of how they are used in a program.\n",
    "\n",
    "## SOLUTION\n",
    "Keywords are predefined words that hold a special meaning and have specific purpose in python programming. They are reserved words in Python that have special meanings and cannot be used as identifiers(variable names,function names,etc). Keywords are case-sensitive and cannot be redefined or overridden within a Python program.\n",
    "The purpose of keyword is to define the syntax of the code.\n"
   ]
  },
  {
   "cell_type": "code",
   "execution_count": 2,
   "id": "86864606-0214-4008-9c89-7aef02bc7e9f",
   "metadata": {},
   "outputs": [
    {
     "name": "stdout",
     "output_type": "stream",
     "text": [
      "\n",
      "Here is a list of the Python keywords.  Enter any keyword to get more help.\n",
      "\n",
      "False               class               from                or\n",
      "None                continue            global              pass\n",
      "True                def                 if                  raise\n",
      "and                 del                 import              return\n",
      "as                  elif                in                  try\n",
      "assert              else                is                  while\n",
      "async               except              lambda              with\n",
      "await               finally             nonlocal            yield\n",
      "break               for                 not                 \n",
      "\n"
     ]
    }
   ],
   "source": [
    "# The list of keywords in Python are as follows-\n",
    "help(\"keywords\")"
   ]
  },
  {
   "cell_type": "code",
   "execution_count": 3,
   "id": "547b7c7e-6391-4e27-b603-e8665bb1bd07",
   "metadata": {},
   "outputs": [
    {
     "name": "stdout",
     "output_type": "stream",
     "text": [
      "grade B\n"
     ]
    }
   ],
   "source": [
    "# Some examples of how keywords are used in python program are-\n",
    "# Use of if,elif and else keywords-\n",
    "score=80\n",
    "if score>=90:\n",
    "    print(\"grade A\")\n",
    "elif(80<=score<90):\n",
    "    print(\"grade B\")\n",
    "elif(70<=score<80):\n",
    "    print(\"grade C\")\n",
    "else:\n",
    "    print(\"grade D\")\n",
    "    "
   ]
  },
  {
   "cell_type": "code",
   "execution_count": 4,
   "id": "3370f80a-010c-453e-b81c-13f202159914",
   "metadata": {},
   "outputs": [
    {
     "data": {
      "text/plain": [
       "1"
      ]
     },
     "execution_count": 4,
     "metadata": {},
     "output_type": "execute_result"
    }
   ],
   "source": [
    "# Use of True and False keywords\n",
    "True+False"
   ]
  },
  {
   "cell_type": "code",
   "execution_count": 8,
   "id": "db47c9d9-23bb-4c4d-9105-a11f99ae088f",
   "metadata": {},
   "outputs": [
    {
     "name": "stdout",
     "output_type": "stream",
     "text": [
      "p\n",
      "y\n",
      "t\n",
      "h\n",
      "o\n",
      "n\n"
     ]
    }
   ],
   "source": [
    "# Use of for\n",
    "for i in \"python\":\n",
    "    print(i)"
   ]
  },
  {
   "cell_type": "code",
   "execution_count": 7,
   "id": "cf177b37-bd5f-42d9-92d5-2ed9dc9cbf75",
   "metadata": {
    "tags": []
   },
   "outputs": [
    {
     "name": "stdout",
     "output_type": "stream",
     "text": [
      "5\n",
      "4\n",
      "3\n",
      "2\n",
      "1\n"
     ]
    }
   ],
   "source": [
    "# Use of while\n",
    "count=5\n",
    "while count>0:\n",
    "    print(count)\n",
    "    count=count-1"
   ]
  },
  {
   "cell_type": "raw",
   "id": "03372259-db9a-49b6-a2c6-bfaac6972d18",
   "metadata": {},
   "source": [
    "## QUESTION 3\n",
    "## Compare and contrast mutable and immutable objects in Python with examples.\n",
    "\n",
    "## SOLUTION\n",
    "~ In python, objects can be either changeable(modifiable) or unchangeable.\n",
    "~ Mutable objects (Item Assignments) are the objects that can be modified after creation, such as lists and dictionaries.\n",
    "~ Immutable objects are the objects that cannot be modified after creation, such as tupples and strings.\n",
    "~ Mutability affects how objects are stored and manipulated in memory, impacting performance, memory usage and and concurrency in Python programs."
   ]
  },
  {
   "cell_type": "code",
   "execution_count": 12,
   "id": "ce93d43b-771e-4dd0-a829-090ff512e67a",
   "metadata": {},
   "outputs": [],
   "source": [
    "# List is a mutable object/supports Item Assignment.\n",
    "list_cont=[1,2,3,4.3,3+5j,True,\"success\"]"
   ]
  },
  {
   "cell_type": "code",
   "execution_count": 13,
   "id": "485400eb-93ae-4c79-915a-0ba10bf34c5a",
   "metadata": {},
   "outputs": [
    {
     "data": {
      "text/plain": [
       "'success'"
      ]
     },
     "execution_count": 13,
     "metadata": {},
     "output_type": "execute_result"
    }
   ],
   "source": [
    "list_cont[-1]"
   ]
  },
  {
   "cell_type": "code",
   "execution_count": 14,
   "id": "c982f80e-6a2f-4c9f-bbbf-1a9c7c52ee3a",
   "metadata": {},
   "outputs": [],
   "source": [
    "# Now the list has been created. Suppose i want to change the element of list i.e. \"success\" and replace it with \"win\",then I can do so as it is a mutable object.\n",
    "list_cont[-1]=\"win\""
   ]
  },
  {
   "cell_type": "code",
   "execution_count": 16,
   "id": "46f5fd80-466b-4801-9b2f-db350f8b8e7f",
   "metadata": {},
   "outputs": [
    {
     "data": {
      "text/plain": [
       "[1, 2, 3, 4.3, (3+5j), True, 'win']"
      ]
     },
     "execution_count": 16,
     "metadata": {},
     "output_type": "execute_result"
    }
   ],
   "source": [
    "#Now you can see that it is changed.\n",
    "list_cont"
   ]
  },
  {
   "cell_type": "code",
   "execution_count": 17,
   "id": "27177d55-f72f-4274-bf43-ac41d3e1557c",
   "metadata": {},
   "outputs": [],
   "source": [
    "# string is an immutable object/ does not support Item Assignment.\n",
    "a=\"intelligent\""
   ]
  },
  {
   "cell_type": "code",
   "execution_count": 18,
   "id": "6357c662-5f48-43a2-9291-944299639f01",
   "metadata": {},
   "outputs": [
    {
     "data": {
      "text/plain": [
       "'i'"
      ]
     },
     "execution_count": 18,
     "metadata": {},
     "output_type": "execute_result"
    }
   ],
   "source": [
    "a[0]"
   ]
  },
  {
   "cell_type": "code",
   "execution_count": 19,
   "id": "79992faa-24ff-4b11-a489-6530d2d86ed1",
   "metadata": {},
   "outputs": [
    {
     "ename": "TypeError",
     "evalue": "'str' object does not support item assignment",
     "output_type": "error",
     "traceback": [
      "\u001b[0;31m---------------------------------------------------------------------------\u001b[0m",
      "\u001b[0;31mTypeError\u001b[0m                                 Traceback (most recent call last)",
      "Cell \u001b[0;32mIn[19], line 2\u001b[0m\n\u001b[1;32m      1\u001b[0m \u001b[38;5;66;03m# Now suppose you want to change this 'i' with 'p',then when you will execute you will get an error that 'str' object does not support item assignment.\u001b[39;00m\n\u001b[0;32m----> 2\u001b[0m \u001b[43ma\u001b[49m\u001b[43m[\u001b[49m\u001b[38;5;241;43m0\u001b[39;49m\u001b[43m]\u001b[49m\u001b[38;5;241m=\u001b[39m\u001b[38;5;124m'\u001b[39m\u001b[38;5;124mp\u001b[39m\u001b[38;5;124m'\u001b[39m\n",
      "\u001b[0;31mTypeError\u001b[0m: 'str' object does not support item assignment"
     ]
    }
   ],
   "source": [
    "# Now suppose you want to change this 'i' with 'p',then when you will execute you will get an error that 'str' object does not support item assignment.\n",
    "a[0]='p'"
   ]
  },
  {
   "cell_type": "raw",
   "id": "ced2cb21-6e19-4c6b-ba3f-61ec49ba2e28",
   "metadata": {},
   "source": [
    "## QUESTION 4\n",
    "## Discuss the different types of operators in Python and provide examples of how they are used.\n",
    "\n",
    "##SOLUTION\n",
    "~ Operators are special symbols or keywords that are used to carry out specific actions on numbers or variables that are used to carry out specific actions on numbers or variables in Python expressions.\n",
    "~ Python supports various types of operators, including arithmetic operators(+,-,*,/), comparison operators(==,!=,<,>), logical operators(and,or,not), assignment operators(=,+=,-=,*=,/=),etc.\n",
    "~ Operators have precedence and associativity rules that determine the order of evaluation in expressions.\n"
   ]
  },
  {
   "cell_type": "code",
   "execution_count": 20,
   "id": "2639943b-6fcf-444b-99c0-931641c445ef",
   "metadata": {},
   "outputs": [
    {
     "data": {
      "text/plain": [
       "8"
      ]
     },
     "execution_count": 20,
     "metadata": {},
     "output_type": "execute_result"
    }
   ],
   "source": [
    "# Arithmetic Operators\n",
    "a=1\n",
    "b=7\n",
    "a+b"
   ]
  },
  {
   "cell_type": "code",
   "execution_count": 21,
   "id": "f209ed92-c4a1-4b29-82b0-a6ee821a071f",
   "metadata": {},
   "outputs": [
    {
     "data": {
      "text/plain": [
       "-6"
      ]
     },
     "execution_count": 21,
     "metadata": {},
     "output_type": "execute_result"
    }
   ],
   "source": [
    "a-b"
   ]
  },
  {
   "cell_type": "code",
   "execution_count": 22,
   "id": "d5ed9e47-d3b1-411f-8123-ed97cdc60d69",
   "metadata": {},
   "outputs": [
    {
     "data": {
      "text/plain": [
       "7"
      ]
     },
     "execution_count": 22,
     "metadata": {},
     "output_type": "execute_result"
    }
   ],
   "source": [
    "a*b"
   ]
  },
  {
   "cell_type": "code",
   "execution_count": 23,
   "id": "13a2034a-1cef-4557-91e5-f2eedc66523a",
   "metadata": {},
   "outputs": [
    {
     "data": {
      "text/plain": [
       "7.0"
      ]
     },
     "execution_count": 23,
     "metadata": {},
     "output_type": "execute_result"
    }
   ],
   "source": [
    "b/a"
   ]
  },
  {
   "cell_type": "code",
   "execution_count": 24,
   "id": "e31e3cec-347b-40ca-a9d7-18ea12eb66e9",
   "metadata": {},
   "outputs": [
    {
     "data": {
      "text/plain": [
       "1"
      ]
     },
     "execution_count": 24,
     "metadata": {},
     "output_type": "execute_result"
    }
   ],
   "source": [
    "# Modulus operator(a type of arithmetic operator)\n",
    "# Suppose you want to know remainder when you divide 21 by 4.\n",
    "21%4"
   ]
  },
  {
   "cell_type": "code",
   "execution_count": 25,
   "id": "e96d4a46-78e6-40bc-aba1-0702170f3620",
   "metadata": {},
   "outputs": [
    {
     "data": {
      "text/plain": [
       "32"
      ]
     },
     "execution_count": 25,
     "metadata": {},
     "output_type": "execute_result"
    }
   ],
   "source": [
    "#To get the answer of any power of any number, suppose 2^5.\n",
    "2**5"
   ]
  },
  {
   "cell_type": "code",
   "execution_count": 26,
   "id": "2c217255-f2ed-4028-9e8d-8066f19944b9",
   "metadata": {},
   "outputs": [
    {
     "data": {
      "text/plain": [
       "1"
      ]
     },
     "execution_count": 26,
     "metadata": {},
     "output_type": "execute_result"
    }
   ],
   "source": [
    "# Floor Operator( a type of arithmetic operator)\n",
    "# If you want to know the nearest integer that is on lower side, then you can use floor operator.\n",
    "# For eg- after dividing 4 by 3,you dont want float but nearest lowest value,then you can use floor operator.\n",
    "4//3"
   ]
  },
  {
   "cell_type": "code",
   "execution_count": 27,
   "id": "6a4f1a62-2b4a-427c-9e51-b5b4abfb7fec",
   "metadata": {},
   "outputs": [
    {
     "data": {
      "text/plain": [
       "True"
      ]
     },
     "execution_count": 27,
     "metadata": {},
     "output_type": "execute_result"
    }
   ],
   "source": [
    "# Comparison operators\n",
    "# It will compare two values and return a boolean value.\n",
    "2==2"
   ]
  },
  {
   "cell_type": "code",
   "execution_count": 28,
   "id": "514980ff-0750-475c-953c-76a1ee6c5043",
   "metadata": {},
   "outputs": [
    {
     "data": {
      "text/plain": [
       "True"
      ]
     },
     "execution_count": 28,
     "metadata": {},
     "output_type": "execute_result"
    }
   ],
   "source": [
    "2!=3"
   ]
  },
  {
   "cell_type": "code",
   "execution_count": 29,
   "id": "44c35698-4e38-48b3-986c-a7c9f8ce1bdc",
   "metadata": {},
   "outputs": [
    {
     "data": {
      "text/plain": [
       "False"
      ]
     },
     "execution_count": 29,
     "metadata": {},
     "output_type": "execute_result"
    }
   ],
   "source": [
    "12<=5"
   ]
  },
  {
   "cell_type": "code",
   "execution_count": 30,
   "id": "13b314b8-a610-4b9f-ad70-cac9b2fdbf73",
   "metadata": {},
   "outputs": [
    {
     "data": {
      "text/plain": [
       "True"
      ]
     },
     "execution_count": 30,
     "metadata": {},
     "output_type": "execute_result"
    }
   ],
   "source": [
    "# Logical operators\n",
    "# Two types of logical operators (i) and (ii) or.\n",
    "True and True"
   ]
  },
  {
   "cell_type": "code",
   "execution_count": 31,
   "id": "241ca5e5-26e9-425d-9bf1-59e46ab84b44",
   "metadata": {},
   "outputs": [
    {
     "data": {
      "text/plain": [
       "False"
      ]
     },
     "execution_count": 31,
     "metadata": {},
     "output_type": "execute_result"
    }
   ],
   "source": [
    "False or False"
   ]
  },
  {
   "cell_type": "code",
   "execution_count": 32,
   "id": "6b41f95d-f8e0-4371-8620-8940a348d3e6",
   "metadata": {},
   "outputs": [
    {
     "data": {
      "text/plain": [
       "False"
      ]
     },
     "execution_count": 32,
     "metadata": {},
     "output_type": "execute_result"
    }
   ],
   "source": [
    "True and False"
   ]
  },
  {
   "cell_type": "code",
   "execution_count": 33,
   "id": "e952010f-8c28-43d7-91dd-3ab65f02dd34",
   "metadata": {},
   "outputs": [
    {
     "data": {
      "text/plain": [
       "True"
      ]
     },
     "execution_count": 33,
     "metadata": {},
     "output_type": "execute_result"
    }
   ],
   "source": [
    "False or True"
   ]
  },
  {
   "cell_type": "code",
   "execution_count": 39,
   "id": "369e7cc1-8d61-41d2-a351-b49f462a72e4",
   "metadata": {},
   "outputs": [],
   "source": [
    "# Assignment Operator\n",
    "# Assigns the value.\n",
    "b=12\n"
   ]
  },
  {
   "cell_type": "code",
   "execution_count": 40,
   "id": "d5717773-c6cb-41b5-b86d-5f1a2aed603e",
   "metadata": {},
   "outputs": [],
   "source": [
    "# Membership Operator\n",
    "a= \"simplicity\""
   ]
  },
  {
   "cell_type": "code",
   "execution_count": 41,
   "id": "2082be43-e23b-4024-bf5b-efbc0a03dde0",
   "metadata": {},
   "outputs": [
    {
     "data": {
      "text/plain": [
       "True"
      ]
     },
     "execution_count": 41,
     "metadata": {},
     "output_type": "execute_result"
    }
   ],
   "source": [
    "# Now you want to check whether 'm' is there in \"simplicity\", then you can check via membership operator.\n",
    "'m' in a"
   ]
  },
  {
   "cell_type": "code",
   "execution_count": 42,
   "id": "4333ab79-e315-4350-9ee3-aa6c75ffc4da",
   "metadata": {},
   "outputs": [
    {
     "data": {
      "text/plain": [
       "False"
      ]
     },
     "execution_count": 42,
     "metadata": {},
     "output_type": "execute_result"
    }
   ],
   "source": [
    "'c' not in a"
   ]
  },
  {
   "cell_type": "code",
   "execution_count": 44,
   "id": "0d1a8f8a-d1fb-4d74-91a1-9bcd3897698b",
   "metadata": {},
   "outputs": [],
   "source": [
    "# Identity Operator\n",
    "# It compares the location of two objects/variables.\n",
    "# Suppose\n",
    "a=2 \n",
    "b=3\n",
    "# A memory block will be allocated in computer machine. Identity operator will compare whether this a and b are same or are pointing to same memory block.\n"
   ]
  },
  {
   "cell_type": "code",
   "execution_count": 45,
   "id": "e83ce978-7d3a-407c-bf85-bfa793d1f83c",
   "metadata": {},
   "outputs": [
    {
     "data": {
      "text/plain": [
       "False"
      ]
     },
     "execution_count": 45,
     "metadata": {},
     "output_type": "execute_result"
    }
   ],
   "source": [
    "a is b"
   ]
  },
  {
   "cell_type": "code",
   "execution_count": 46,
   "id": "863341f3-537e-4d8d-bb1f-879180c717bd",
   "metadata": {},
   "outputs": [
    {
     "data": {
      "text/plain": [
       "True"
      ]
     },
     "execution_count": 46,
     "metadata": {},
     "output_type": "execute_result"
    }
   ],
   "source": [
    "b is not a"
   ]
  },
  {
   "cell_type": "code",
   "execution_count": 47,
   "id": "0558847f-99ee-4663-8ea2-d067f0bedff3",
   "metadata": {},
   "outputs": [],
   "source": [
    "# Bitwise operator.\n",
    "# Performs operations at bit level.\n",
    "# Manipulates individual bits within an integer.\n",
    "# &,|,~,xor are some bitwise operators which manipulate at bit level.\n"
   ]
  },
  {
   "cell_type": "code",
   "execution_count": 48,
   "id": "832fa960-a54c-439b-a54b-871a4b751291",
   "metadata": {},
   "outputs": [
    {
     "data": {
      "text/plain": [
       "1010"
      ]
     },
     "execution_count": 48,
     "metadata": {},
     "output_type": "execute_result"
    }
   ],
   "source": [
    "1010 & 1010"
   ]
  },
  {
   "cell_type": "code",
   "execution_count": 49,
   "id": "3fb99077-8676-4ea0-bb3e-0d0fb30a5814",
   "metadata": {},
   "outputs": [
    {
     "data": {
      "text/plain": [
       "'0b10111010'"
      ]
     },
     "execution_count": 49,
     "metadata": {},
     "output_type": "execute_result"
    }
   ],
   "source": [
    "# Bit representation of any number.\n",
    "bin(186)"
   ]
  },
  {
   "cell_type": "code",
   "execution_count": 50,
   "id": "edf2e2c1-5dd0-40a4-aa1e-730db455f2fa",
   "metadata": {},
   "outputs": [
    {
     "data": {
      "text/plain": [
       "-4"
      ]
     },
     "execution_count": 50,
     "metadata": {},
     "output_type": "execute_result"
    }
   ],
   "source": [
    "# Negotion(~)\n",
    "# It will give you one lower value than number with a minus symbol.\n",
    "~3"
   ]
  },
  {
   "cell_type": "code",
   "execution_count": 51,
   "id": "17e99707-19c8-4a12-9915-cdc975c06789",
   "metadata": {},
   "outputs": [
    {
     "data": {
      "text/plain": [
       "6"
      ]
     },
     "execution_count": 51,
     "metadata": {},
     "output_type": "execute_result"
    }
   ],
   "source": [
    "#xor Operator\n",
    "5^3"
   ]
  },
  {
   "cell_type": "code",
   "execution_count": 52,
   "id": "5a9101ba-e03c-4abd-a536-fdd10c08181b",
   "metadata": {},
   "outputs": [
    {
     "data": {
      "text/plain": [
       "280"
      ]
     },
     "execution_count": 52,
     "metadata": {},
     "output_type": "execute_result"
    }
   ],
   "source": [
    "# Shift operator\n",
    "# Left shift\n",
    "# shifts the bits to left by a specified number of positions by filling zeroes on the right.\n",
    "35<<3"
   ]
  },
  {
   "cell_type": "code",
   "execution_count": 53,
   "id": "6b6eea04-fd0e-4d31-a4ad-31971a69cb8a",
   "metadata": {},
   "outputs": [
    {
     "data": {
      "text/plain": [
       "35"
      ]
     },
     "execution_count": 53,
     "metadata": {},
     "output_type": "execute_result"
    }
   ],
   "source": [
    "# Right shift\n",
    "# That number of elements are removed from binary by which you want to shift to right.\n",
    "280>>3"
   ]
  },
  {
   "cell_type": "raw",
   "id": "5b893977-beb5-4d4a-a3b5-9bcff18dc2b1",
   "metadata": {},
   "source": [
    "## QUESTION 5\n",
    "## Explain the concept of type casting in python with examples.\n",
    "\n",
    "## SOLUTION\n",
    "~ Type Casting, also referred to as Type Conversion, is the process of changing one data type to another in Python.\n",
    "~ Python provides built in functions for type casting, such as int(),float(),str().list(),tuple(),dict(),etc.\n",
    "~ Type Casting is often necessary for performing arithmetic operations, data manipulation, and input/output operations in Python programs.\n",
    "~ There are two types of Type Casting (i) Implicit Type Casting (ii) Explicit Type Casting.\n",
    "~ Implicit Type Casting- Python understands the standard data type. When you write a=5, Python itself understands that it is an integer. This is called Implicit Type Casting.\n",
    "~ Explicit Type Casting- Converting data using inbuilt functions such as str,int,float,boolean is known as explicit type casting.\n"
   ]
  },
  {
   "cell_type": "code",
   "execution_count": 54,
   "id": "15b8f54b-fd28-45be-8607-9f93b9eda150",
   "metadata": {},
   "outputs": [],
   "source": [
    "# Conversion of float to integer\n",
    "a=3.4"
   ]
  },
  {
   "cell_type": "code",
   "execution_count": 55,
   "id": "de61082d-1a98-4583-930d-0f7b37a8e95f",
   "metadata": {},
   "outputs": [
    {
     "data": {
      "text/plain": [
       "float"
      ]
     },
     "execution_count": 55,
     "metadata": {},
     "output_type": "execute_result"
    }
   ],
   "source": [
    "type(a)"
   ]
  },
  {
   "cell_type": "code",
   "execution_count": 56,
   "id": "465ba6e9-29ac-4474-b18c-b5b3a6866ff5",
   "metadata": {},
   "outputs": [
    {
     "data": {
      "text/plain": [
       "3"
      ]
     },
     "execution_count": 56,
     "metadata": {},
     "output_type": "execute_result"
    }
   ],
   "source": [
    "int(a)"
   ]
  },
  {
   "cell_type": "code",
   "execution_count": 57,
   "id": "8d3eaedd-e29f-4412-ab05-764a4d45b1a6",
   "metadata": {},
   "outputs": [],
   "source": [
    "# Conversion of integer to float\n",
    "b=2"
   ]
  },
  {
   "cell_type": "code",
   "execution_count": 58,
   "id": "c2bbb965-e0ba-4ea4-bc7a-a39735f94163",
   "metadata": {},
   "outputs": [
    {
     "data": {
      "text/plain": [
       "int"
      ]
     },
     "execution_count": 58,
     "metadata": {},
     "output_type": "execute_result"
    }
   ],
   "source": [
    "type(b)"
   ]
  },
  {
   "cell_type": "code",
   "execution_count": 59,
   "id": "3ec7ddd3-394e-4be9-99ac-a0b6114038d0",
   "metadata": {},
   "outputs": [
    {
     "data": {
      "text/plain": [
       "2.0"
      ]
     },
     "execution_count": 59,
     "metadata": {},
     "output_type": "execute_result"
    }
   ],
   "source": [
    "float(b)"
   ]
  },
  {
   "cell_type": "code",
   "execution_count": 60,
   "id": "43855db5-8a0d-4b57-b389-30cbfc340430",
   "metadata": {},
   "outputs": [],
   "source": [
    "# Conversion of string to float.\n",
    "c=\"2.3\"\n"
   ]
  },
  {
   "cell_type": "code",
   "execution_count": 61,
   "id": "d5a65c6e-1952-45c9-b764-2c4463b78043",
   "metadata": {},
   "outputs": [
    {
     "data": {
      "text/plain": [
       "str"
      ]
     },
     "execution_count": 61,
     "metadata": {},
     "output_type": "execute_result"
    }
   ],
   "source": [
    "type(c)"
   ]
  },
  {
   "cell_type": "code",
   "execution_count": 62,
   "id": "2a5febc6-fc5c-46c5-be56-4e5fc56fee45",
   "metadata": {},
   "outputs": [
    {
     "data": {
      "text/plain": [
       "2.3"
      ]
     },
     "execution_count": 62,
     "metadata": {},
     "output_type": "execute_result"
    }
   ],
   "source": [
    "float(c)"
   ]
  },
  {
   "cell_type": "code",
   "execution_count": 63,
   "id": "827d83df-fc7d-4003-856c-5af6450d8e07",
   "metadata": {},
   "outputs": [],
   "source": [
    "# String in form of character such as a=\"swing\" or b=\"excellent\" cannot be converted into numbers as they are characters."
   ]
  },
  {
   "cell_type": "code",
   "execution_count": 64,
   "id": "1df36304-a8ab-4579-ae7a-5fe7ade951fb",
   "metadata": {},
   "outputs": [],
   "source": [
    "# Integer to string\n",
    "d=5"
   ]
  },
  {
   "cell_type": "code",
   "execution_count": 65,
   "id": "9d63868a-3fbb-4093-9e59-5b7f777573a8",
   "metadata": {},
   "outputs": [
    {
     "data": {
      "text/plain": [
       "int"
      ]
     },
     "execution_count": 65,
     "metadata": {},
     "output_type": "execute_result"
    }
   ],
   "source": [
    "type(d)"
   ]
  },
  {
   "cell_type": "code",
   "execution_count": 66,
   "id": "9329fd10-82fb-48a3-b908-b6023f8206ec",
   "metadata": {},
   "outputs": [
    {
     "data": {
      "text/plain": [
       "'5'"
      ]
     },
     "execution_count": 66,
     "metadata": {},
     "output_type": "execute_result"
    }
   ],
   "source": [
    "str(d)"
   ]
  },
  {
   "cell_type": "code",
   "execution_count": 67,
   "id": "7b3daade-211b-4053-a9ac-e659ca353587",
   "metadata": {},
   "outputs": [
    {
     "data": {
      "text/plain": [
       "False"
      ]
     },
     "execution_count": 67,
     "metadata": {},
     "output_type": "execute_result"
    }
   ],
   "source": [
    "# Boolean type casting\n",
    "# Every number above,below and equal to 1 (except 0) will be treated as True.\n",
    "bool(0)"
   ]
  },
  {
   "cell_type": "code",
   "execution_count": 68,
   "id": "0ee5a4a1-719d-49f3-8aa5-d031499bd927",
   "metadata": {},
   "outputs": [
    {
     "data": {
      "text/plain": [
       "True"
      ]
     },
     "execution_count": 68,
     "metadata": {},
     "output_type": "execute_result"
    }
   ],
   "source": [
    "bool(1)"
   ]
  },
  {
   "cell_type": "code",
   "execution_count": 69,
   "id": "63566aca-8a34-408e-a8a4-4bff2275f431",
   "metadata": {},
   "outputs": [
    {
     "data": {
      "text/plain": [
       "True"
      ]
     },
     "execution_count": 69,
     "metadata": {},
     "output_type": "execute_result"
    }
   ],
   "source": [
    "bool(100)"
   ]
  },
  {
   "cell_type": "code",
   "execution_count": 71,
   "id": "a0a84098-7371-41ed-a7b2-440f0c8e7b08",
   "metadata": {},
   "outputs": [
    {
     "data": {
      "text/plain": [
       "True"
      ]
     },
     "execution_count": 71,
     "metadata": {},
     "output_type": "execute_result"
    }
   ],
   "source": [
    "bool(\"excellent\")"
   ]
  },
  {
   "cell_type": "code",
   "execution_count": 73,
   "id": "7dc3449b-c558-4edc-943c-2eeb14f45336",
   "metadata": {},
   "outputs": [
    {
     "data": {
      "text/plain": [
       "False"
      ]
     },
     "execution_count": 73,
     "metadata": {},
     "output_type": "execute_result"
    }
   ],
   "source": [
    "# Empty string\n",
    "bool(\"\")"
   ]
  },
  {
   "cell_type": "raw",
   "id": "647727dc-81c9-4bc4-a0a6-a0a6f6e1eaa9",
   "metadata": {},
   "source": [
    "## QUESTION 6\n",
    "## How do conditional statements work in Python? Illustrate with examples.\n",
    "\n",
    "## SOLUTION\n",
    "~ Conditionals in python are used to execute code based on the evaluation of one or more conditions.\n",
    "~ Python supports conditional statements such as if,elif(else if) and else to control the flow of execution.\n",
    "~ Conditionals can be nested to handle multiple conditions such and control different branches of execution based on the outcome of logical expressions.\n",
    "~ Some examples are as follows-"
   ]
  },
  {
   "cell_type": "code",
   "execution_count": 1,
   "id": "ab7abda2-0fb3-4cf8-be3a-1d32c221361d",
   "metadata": {},
   "outputs": [
    {
     "name": "stdout",
     "output_type": "stream",
     "text": [
      " The number is greater than 100\n"
     ]
    }
   ],
   "source": [
    "# if statements\n",
    "a=100\n",
    "if a>0:\n",
    "    print(' The number is greater than 100')"
   ]
  },
  {
   "cell_type": "code",
   "execution_count": 2,
   "id": "d09d0467-bb35-4df9-926a-374db1b6a186",
   "metadata": {},
   "outputs": [
    {
     "name": "stdout",
     "output_type": "stream",
     "text": [
      "I will play cricket\n"
     ]
    }
   ],
   "source": [
    "# if else statements\n",
    "weather='sunny'\n",
    "if weather=='sunny':\n",
    "    print('I will play cricket')\n",
    "else:\n",
    "    print('I will watch TV')"
   ]
  },
  {
   "cell_type": "code",
   "execution_count": null,
   "id": "4a7c8c9f-b3f5-4c39-8ea1-530294cfaa35",
   "metadata": {},
   "outputs": [],
   "source": [
    "# if elif else statements\n",
    "# There can be multiple elifs.\n"
   ]
  },
  {
   "cell_type": "code",
   "execution_count": 3,
   "id": "97af598c-50bd-42b5-a0d1-372cee4bd7e3",
   "metadata": {},
   "outputs": [
    {
     "name": "stdout",
     "output_type": "stream",
     "text": [
      "grade B\n"
     ]
    }
   ],
   "source": [
    "# Some examples of how keywords are used in python program are-\n",
    "# Use of if,elif and else keywords-\n",
    "score=80\n",
    "if score>=90:\n",
    "    print(\"grade A\")\n",
    "elif(80<=score<90):\n",
    "    print(\"grade B\")\n",
    "elif(70<=score<80):\n",
    "    print(\"grade C\")\n",
    "else:\n",
    "    print(\"grade D\")\n",
    "    "
   ]
  },
  {
   "cell_type": "code",
   "execution_count": 4,
   "id": "5cddcc72-e898-4d6a-a96a-7d90f2b81c92",
   "metadata": {},
   "outputs": [
    {
     "name": "stdout",
     "output_type": "stream",
     "text": [
      "x is not greater than 5\n"
     ]
    }
   ],
   "source": [
    "# Nested if else statements\n",
    "# multiple if-else inside if-else statements.\n",
    "x=1\n",
    "y=6\n",
    "if x>5:\n",
    "    if y>5:\n",
    "        print('Both x and y are greater than 5')\n",
    "    else:\n",
    "        print('x is greater than 5 but y is less than 5')\n",
    "else:\n",
    "    print('x is not greater than 5')"
   ]
  },
  {
   "cell_type": "raw",
   "id": "556450f6-5aaf-4565-895d-958f9ff27b79",
   "metadata": {},
   "source": [
    "## QUESTION 7\n",
    "## Describe the different types of loops in Python and their use cases with example.\n",
    "\n",
    "## SOLUTION\n",
    "~ In Python, loops are employed to repeat a sequence of actions or code until a specific condition is fulfilled.\n",
    "~ Python offers two primary types of loops: 'for' loops and 'while' loops.\n",
    "~ 'for' loops are used for iterating over a sequence of elements, while 'while' loops are used for executing a code until a specified condition becomes false.\n"
   ]
  },
  {
   "cell_type": "code",
   "execution_count": 5,
   "id": "8544fa8f-9bfc-4011-9fd1-cfa1e03e13f8",
   "metadata": {
    "tags": []
   },
   "outputs": [
    {
     "name": "stdout",
     "output_type": "stream",
     "text": [
      "5\n",
      "4\n",
      "3\n",
      "2\n",
      "1\n"
     ]
    }
   ],
   "source": [
    "# Use of while loops\n",
    "count=5\n",
    "while count>0:\n",
    "    print(count)\n",
    "    count=count-1"
   ]
  },
  {
   "cell_type": "code",
   "execution_count": 8,
   "id": "9d29b7fe-52b7-42ae-aa9d-934b0e29d1e0",
   "metadata": {},
   "outputs": [
    {
     "name": "stdout",
     "output_type": "stream",
     "text": [
      "1\n",
      "2\n"
     ]
    }
   ],
   "source": [
    "# Break Statements- Break terminates/exits the loop when the condition is met.\n",
    "# Break statements in 'while' loop.\n",
    "n=7\n",
    "i=1\n",
    "while i<n:\n",
    "    print(i)\n",
    "    i=i+1\n",
    "    if i==3:\n",
    "        break\n",
    "else:\n",
    "    print('This will be executed when while is run successfully without any break.')"
   ]
  },
  {
   "cell_type": "code",
   "execution_count": 9,
   "id": "99e46d46-df7b-464d-b935-bb6e02b126cb",
   "metadata": {},
   "outputs": [
    {
     "name": "stdout",
     "output_type": "stream",
     "text": [
      "2\n",
      "4\n",
      "5\n",
      "6\n",
      "7\n",
      "This will be executed when while is run successfully without any break.\n"
     ]
    }
   ],
   "source": [
    "# Continue Statements- It skips the iteration.\n",
    "# Continue statements in 'while' loop.\n",
    "n=7\n",
    "i=1\n",
    "while i<n:\n",
    "    i=i+1\n",
    "    if i==3:\n",
    "        continue\n",
    "    print(i)\n",
    "else:\n",
    "    print('This will be executed when while is run successfully without any break.')"
   ]
  },
  {
   "cell_type": "code",
   "execution_count": 10,
   "id": "f53cecd9-5c75-428a-932a-16d225a6c2e1",
   "metadata": {},
   "outputs": [
    {
     "name": "stdout",
     "output_type": "stream",
     "text": [
      "p\n",
      "y\n",
      "t\n",
      "h\n",
      "o\n",
      "n\n"
     ]
    }
   ],
   "source": [
    "# Use of 'for' loops\n",
    "for i in \"python\":\n",
    "    print(i)"
   ]
  },
  {
   "cell_type": "code",
   "execution_count": 11,
   "id": "172512c0-9d7c-4af3-8ba2-d6f37ec2a973",
   "metadata": {},
   "outputs": [],
   "source": [
    "# Break statement in 'for' loop\n",
    "l=[1,2,'simple','unique']"
   ]
  },
  {
   "cell_type": "code",
   "execution_count": 12,
   "id": "88e3e38a-2f4c-4902-a2a7-8b4392f9bb17",
   "metadata": {},
   "outputs": [
    {
     "name": "stdout",
     "output_type": "stream",
     "text": [
      "1\n",
      "2\n"
     ]
    }
   ],
   "source": [
    "for i in l:\n",
    "    if i=='simple':\n",
    "        break\n",
    "    print(i)\n",
    "else:\n",
    "    print('This will be executed when for loop ends without a break statement')"
   ]
  },
  {
   "cell_type": "code",
   "execution_count": 13,
   "id": "21cb8181-e2d7-495c-9d43-a5d534060e59",
   "metadata": {},
   "outputs": [
    {
     "name": "stdout",
     "output_type": "stream",
     "text": [
      "1\n",
      "2\n",
      "unique\n",
      "This will be executed when for loop ends without a break statement\n"
     ]
    }
   ],
   "source": [
    "# Continue statement in for loop\n",
    "for i in l:\n",
    "    if i=='simple':\n",
    "        continue\n",
    "    print(i)\n",
    "else:\n",
    "    print('This will be executed when for loop ends without a break statement')"
   ]
  },
  {
   "cell_type": "code",
   "execution_count": 14,
   "id": "aa7cfaaa-7548-407c-ba6c-3db8eef987f7",
   "metadata": {},
   "outputs": [
    {
     "name": "stdout",
     "output_type": "stream",
     "text": [
      "The assignment is finished. Thank you.\n"
     ]
    }
   ],
   "source": [
    "print('The assignment is finished. Thank you.')"
   ]
  },
  {
   "cell_type": "code",
   "execution_count": null,
   "id": "1d455944-5e39-46c8-9302-1a9536aef9f6",
   "metadata": {},
   "outputs": [],
   "source": []
  }
 ],
 "metadata": {
  "kernelspec": {
   "display_name": "Python 3 (ipykernel)",
   "language": "python",
   "name": "python3"
  },
  "language_info": {
   "codemirror_mode": {
    "name": "ipython",
    "version": 3
   },
   "file_extension": ".py",
   "mimetype": "text/x-python",
   "name": "python",
   "nbconvert_exporter": "python",
   "pygments_lexer": "ipython3",
   "version": "3.10.8"
  }
 },
 "nbformat": 4,
 "nbformat_minor": 5
}
