{
  "nbformat": 4,
  "nbformat_minor": 0,
  "metadata": {
    "colab": {
      "provenance": [],
      "authorship_tag": "ABX9TyOU9CA6KpqcXS4h/69AXVo5",
      "include_colab_link": true
    },
    "kernelspec": {
      "name": "python3",
      "display_name": "Python 3"
    },
    "language_info": {
      "name": "python"
    }
  },
  "cells": [
    {
      "cell_type": "markdown",
      "metadata": {
        "id": "view-in-github",
        "colab_type": "text"
      },
      "source": [
        "<a href=\"https://colab.research.google.com/github/vanya1510/Data-Analytics-Assignments/blob/main/Functions_Assignment.ipynb\" target=\"_parent\"><img src=\"https://colab.research.google.com/assets/colab-badge.svg\" alt=\"Open In Colab\"/></a>"
      ]
    },
    {
      "cell_type": "markdown",
      "source": [
        "**ASSIGNMENT- MODULE 6- FUNCTIONS**"
      ],
      "metadata": {
        "id": "xXAlSSz5PFGn"
      }
    },
    {
      "cell_type": "markdown",
      "source": [
        "**Ques 1-** What is the difference between a function and a method in Python?\n"
      ],
      "metadata": {
        "id": "_tJud9OFPPKb"
      }
    },
    {
      "cell_type": "markdown",
      "source": [
        "Ans- In Python, both functions and methods perform similar tasks, but there are key differences between them.\n",
        "\n",
        "**Functions**\n",
        "- A Function is a block of code that can be called independently.\n",
        "- It is defined using def keyword and can be placed anywhere in the code.\n",
        "- It is not tied to any object or class.\n",
        "\n",
        "\n",
        "\n",
        "\n",
        "\n"
      ],
      "metadata": {
        "id": "cBZaRaDePctM"
      }
    },
    {
      "cell_type": "code",
      "source": [
        "# Example of Functions\n",
        "def add(a,b):\n",
        "  return a+b"
      ],
      "metadata": {
        "id": "fQv9NruoQZE9"
      },
      "execution_count": null,
      "outputs": []
    },
    {
      "cell_type": "code",
      "source": [
        "add(5,6)"
      ],
      "metadata": {
        "colab": {
          "base_uri": "https://localhost:8080/"
        },
        "id": "VB3sYx6vQsk2",
        "outputId": "cfca3ac3-7b47-4fec-b0aa-35502240326c"
      },
      "execution_count": null,
      "outputs": [
        {
          "output_type": "execute_result",
          "data": {
            "text/plain": [
              "11"
            ]
          },
          "metadata": {},
          "execution_count": 2
        }
      ]
    },
    {
      "cell_type": "markdown",
      "source": [
        "**Method**\n",
        "- A method is a function that is associated with an object or class.\n",
        "- It is defined within a class and operates on the object's data (i.e. its attributes).\n",
        "- It can be called using the object or class instance."
      ],
      "metadata": {
        "id": "3XCGRsDyQ26V"
      }
    },
    {
      "cell_type": "code",
      "source": [
        "# Example of Method\n",
        "class Circle:\n",
        "  def __init__(self, radius):\n",
        "    self.radius = radius\n",
        "\n",
        "  def area(self):\n",
        "    return 3.14 * self.radius * self.radius"
      ],
      "metadata": {
        "id": "FnaF06DERjkg"
      },
      "execution_count": null,
      "outputs": []
    },
    {
      "cell_type": "markdown",
      "source": [
        "**Ques 2-** Explain the concept of Function arguments and parameters in Python."
      ],
      "metadata": {
        "id": "ukn8_LsGR2sL"
      }
    },
    {
      "cell_type": "markdown",
      "source": [
        "A Function is a structured, reusable code block utilised for carrying out a specific task. Functions facilitate the creation of modular code, simplifying maintenance and reusability.\n",
        "\n",
        "In Python, the terms arguments and parameters are often used interchangeably, but they refer to different aspects of Function:\n",
        "\n",
        "**Parameters**\n",
        "- Parameters are the variables listed in the function definition.\n",
        "- They act as placeholders for the values that will be passed into the function when it is called.\n",
        "- Example is as follows-"
      ],
      "metadata": {
        "id": "650rFj8LTLTN"
      }
    },
    {
      "cell_type": "code",
      "source": [
        "def greet(name): # 'name' is a parameter.\n",
        "  print(f\"Hello, {name}!\")"
      ],
      "metadata": {
        "id": "rW_EgXKKUjX7"
      },
      "execution_count": null,
      "outputs": []
    },
    {
      "cell_type": "markdown",
      "source": [
        "**Arguments**\n",
        "- Arguments are the actual values you pass to the function when you call it.\n",
        "- These values are assigned to the corresponding parameters in Function.\n",
        "- Example is as follows-"
      ],
      "metadata": {
        "id": "xIpCmByGU1O6"
      }
    },
    {
      "cell_type": "code",
      "source": [
        "greet( \"Vanya\") # 'Vanya' is an argument."
      ],
      "metadata": {
        "colab": {
          "base_uri": "https://localhost:8080/"
        },
        "id": "K2gk3I1_VNOh",
        "outputId": "98f28e8e-b468-49c7-f85f-3ebaec74fd97"
      },
      "execution_count": null,
      "outputs": [
        {
          "output_type": "stream",
          "name": "stdout",
          "text": [
            "Hello, Vanya!\n"
          ]
        }
      ]
    },
    {
      "cell_type": "markdown",
      "source": [
        "**Types of Arguments**\n",
        "\n",
        "Python supports different types of arguments:"
      ],
      "metadata": {
        "id": "A6TvBeTrVdpw"
      }
    },
    {
      "cell_type": "code",
      "source": [
        "# Positional Arguments- They are passed in correct positional order to the Function. Example-\n",
        "def greet(name, age): # name and age are positional arguments.\n",
        "  print(f\"Hello, {name}! You are {age} years old.\")\n"
      ],
      "metadata": {
        "id": "SBzxr-J_VtYj"
      },
      "execution_count": null,
      "outputs": []
    },
    {
      "cell_type": "code",
      "source": [
        "# Keyword Arguments- These are passed by explicitly specifying the parameter names, allowing the order of arguments to be different. Example-\n",
        "greet(age=20, name=\"Vanya\")"
      ],
      "metadata": {
        "colab": {
          "base_uri": "https://localhost:8080/"
        },
        "id": "61Xa3Xl8WKgY",
        "outputId": "c43e2212-8fb3-4117-c2aa-07f840e4f546"
      },
      "execution_count": null,
      "outputs": [
        {
          "output_type": "stream",
          "name": "stdout",
          "text": [
            "Hello, Vanya! You are 20 years old.\n"
          ]
        }
      ]
    },
    {
      "cell_type": "code",
      "source": [
        "# Default Arguments- You can assign default values to parameters, so if an argument is not provided ,the default value is used. Example-\n",
        "def greet(name, age=18):\n",
        "  print(f\"Hello, {name}! You are {age} years old.\")\n",
        "\n",
        "greet(\"Alice\")  # Output: Hello, Alice! You are 18 years old.\n",
        "greet(\"Bob\", 25)  # Output: Hello, Bob! You are 25 years old"
      ],
      "metadata": {
        "colab": {
          "base_uri": "https://localhost:8080/"
        },
        "id": "hqs3MGE4WiUT",
        "outputId": "18e66201-fd54-4615-cd21-b8622dfd22de"
      },
      "execution_count": null,
      "outputs": [
        {
          "output_type": "stream",
          "name": "stdout",
          "text": [
            "Hello, Alice! You are 18 years old.\n",
            "Hello, Bob! You are 25 years old.\n"
          ]
        }
      ]
    },
    {
      "cell_type": "code",
      "source": [
        "#Arbitrary Arguments(*args)- These allow you to pass a variable number of positional arguments to a function. Example-\n",
        "def print_args(*args): # Takes any number of arguments\n",
        "  for arg in args:\n",
        "    print(arg)\n",
        "\n",
        "print_args(1, 2, 3, 4)\n"
      ],
      "metadata": {
        "colab": {
          "base_uri": "https://localhost:8080/"
        },
        "id": "YFScijwQXIrV",
        "outputId": "1dabafc4-9a52-4791-8df5-632a516c5504"
      },
      "execution_count": null,
      "outputs": [
        {
          "output_type": "stream",
          "name": "stdout",
          "text": [
            "1\n",
            "2\n",
            "3\n",
            "4\n"
          ]
        }
      ]
    },
    {
      "cell_type": "code",
      "source": [
        "# Arbitrary Keyword Arguments (**kwargs)- These allow you to pass a variable number of keyword arguments to a to a function. Example-\n",
        "def print_kwargs(**kwargs):\n",
        "  for key, value in kwargs.items():\n",
        "    print(f\"{key}: {value}\")\n",
        "\n",
        "print_kwargs(name=\"Alice\", age=25)"
      ],
      "metadata": {
        "colab": {
          "base_uri": "https://localhost:8080/"
        },
        "id": "NpZ1z1SJX6XV",
        "outputId": "d4b05530-3fb7-4f3d-bf07-0c5413808ec6"
      },
      "execution_count": null,
      "outputs": [
        {
          "output_type": "stream",
          "name": "stdout",
          "text": [
            "name: Alice\n",
            "age: 25\n"
          ]
        }
      ]
    },
    {
      "cell_type": "markdown",
      "source": [
        "**Ques 3-** What are the different ways to define and call a function in Python?"
      ],
      "metadata": {
        "id": "IY2g73gCYiKv"
      }
    },
    {
      "cell_type": "code",
      "source": [
        "# Regular Function Definition and call\n",
        "def greetings():\n",
        "  print(\"Hello, Vanya!\")\n",
        "greetings()"
      ],
      "metadata": {
        "colab": {
          "base_uri": "https://localhost:8080/"
        },
        "id": "Nzn9Ua33Yv3f",
        "outputId": "84b1d054-7355-4a45-8404-9d1b09c3e482"
      },
      "execution_count": null,
      "outputs": [
        {
          "output_type": "stream",
          "name": "stdout",
          "text": [
            "Hello, Vanya!\n"
          ]
        }
      ]
    },
    {
      "cell_type": "code",
      "source": [
        "# Function with Parameters\n",
        "def greet(name):\n",
        "  print(f\"Hello, {name}!\")\n",
        "greet(\"Vanya\")"
      ],
      "metadata": {
        "colab": {
          "base_uri": "https://localhost:8080/"
        },
        "id": "cmueNRfoaHE5",
        "outputId": "5523b5ee-30be-4e30-9bee-934c0fb0dad4"
      },
      "execution_count": null,
      "outputs": [
        {
          "output_type": "stream",
          "name": "stdout",
          "text": [
            "Hello, Vanya!\n"
          ]
        }
      ]
    },
    {
      "cell_type": "code",
      "source": [
        "#Function with return value\n",
        "def add(a,b):\n",
        "  return a+b\n",
        "add(5,6)"
      ],
      "metadata": {
        "colab": {
          "base_uri": "https://localhost:8080/"
        },
        "id": "vpB5yMsga0N5",
        "outputId": "9b00c50e-a060-4c77-b5dd-08fa72d01db7"
      },
      "execution_count": null,
      "outputs": [
        {
          "output_type": "execute_result",
          "data": {
            "text/plain": [
              "11"
            ]
          },
          "metadata": {},
          "execution_count": 19
        }
      ]
    },
    {
      "cell_type": "code",
      "source": [
        "#Default Parameter Values\n",
        "def greet(name=\"Vanya\"):\n",
        "  print(f\"Hello, {name}!\")\n",
        "greet()\n",
        "greet(\"Alice\")\n"
      ],
      "metadata": {
        "colab": {
          "base_uri": "https://localhost:8080/"
        },
        "id": "_VhButgha62m",
        "outputId": "2f8de157-cc2f-477b-dc07-78d976375d11"
      },
      "execution_count": null,
      "outputs": [
        {
          "output_type": "stream",
          "name": "stdout",
          "text": [
            "Hello, Vanya!\n",
            "Hello, Alice!\n"
          ]
        }
      ]
    },
    {
      "cell_type": "code",
      "source": [
        "#Keyword Arguments\n",
        "def greet(name, age):\n",
        "  print(f\"Hello, {name}! You are {age} years old.\")\n",
        "greet(age=20, name=\"Vanya\")"
      ],
      "metadata": {
        "colab": {
          "base_uri": "https://localhost:8080/"
        },
        "id": "YsgVxagzbKLZ",
        "outputId": "a1c3a633-3caa-4163-8eed-426121884858"
      },
      "execution_count": null,
      "outputs": [
        {
          "output_type": "stream",
          "name": "stdout",
          "text": [
            "Hello, Vanya! You are 20 years old.\n"
          ]
        }
      ]
    },
    {
      "cell_type": "code",
      "source": [
        "# Arbitrary Arguments\n",
        "def sum_all(*args):\n",
        "  return sum(args)\n",
        "sum_all(1,2,3,4,5)\n"
      ],
      "metadata": {
        "colab": {
          "base_uri": "https://localhost:8080/"
        },
        "id": "rknu9adzberG",
        "outputId": "5afa83cd-7d24-4121-9a29-f2036c0134ad"
      },
      "execution_count": null,
      "outputs": [
        {
          "output_type": "execute_result",
          "data": {
            "text/plain": [
              "15"
            ]
          },
          "metadata": {},
          "execution_count": 24
        }
      ]
    },
    {
      "cell_type": "code",
      "source": [
        "#Arbitrary Keyword Arguments\n",
        "def print_kwargs(**kwargs):\n",
        "  for key, value in kwargs.items():\n",
        "    print(f\"{key}: {value}\")\n",
        "\n",
        "print_kwargs(name=\"Alice\", age=25)"
      ],
      "metadata": {
        "colab": {
          "base_uri": "https://localhost:8080/"
        },
        "id": "yWLfOTW_byOd",
        "outputId": "7ec9cd51-c234-405e-dfd7-7700636ff915"
      },
      "execution_count": null,
      "outputs": [
        {
          "output_type": "stream",
          "name": "stdout",
          "text": [
            "name: Alice\n",
            "age: 25\n"
          ]
        }
      ]
    },
    {
      "cell_type": "code",
      "source": [
        "#Lambda Functions (Anonymous Functions)\n",
        "square = lambda x: x ** 2\n",
        "square(5)"
      ],
      "metadata": {
        "colab": {
          "base_uri": "https://localhost:8080/"
        },
        "id": "BxxKYRjDb_dJ",
        "outputId": "0858e11e-378e-4416-b3d7-e15849499295"
      },
      "execution_count": null,
      "outputs": [
        {
          "output_type": "execute_result",
          "data": {
            "text/plain": [
              "25"
            ]
          },
          "metadata": {},
          "execution_count": 26
        }
      ]
    },
    {
      "cell_type": "code",
      "source": [
        "#Factorial\n",
        "def factorial(n):\n",
        "  if n == 0:\n",
        "    return 1\n",
        "  else:\n",
        "    return n * factorial(n - 1)\n",
        "factorial(5)\n"
      ],
      "metadata": {
        "colab": {
          "base_uri": "https://localhost:8080/"
        },
        "id": "P_c72uxQcQXn",
        "outputId": "1625d9c7-14a6-4b27-da72-7439d3c81a50"
      },
      "execution_count": null,
      "outputs": [
        {
          "output_type": "execute_result",
          "data": {
            "text/plain": [
              "120"
            ]
          },
          "metadata": {},
          "execution_count": 31
        }
      ]
    },
    {
      "cell_type": "markdown",
      "source": [
        "**Ques 4-**What is the purpose of 'Return' statement in a Python Function?\n"
      ],
      "metadata": {
        "id": "cI-h1agoc-R5"
      }
    },
    {
      "cell_type": "markdown",
      "source": [
        "Ans- 'Return' keyword gives out the value as it is and returns output of a function.\n",
        "- When we print a word or a sentence, there is no single or double quote which means that it is not string. Hence, we cannot carry out concatenation of string. Using 'Return' keyword, output will be inside single or double quote which means that it is string and concatenation can be done.\n",
        "- If a function, needs to compute a result and make it available to the rest of the program, you use return to send that value out of the function.\n"
      ],
      "metadata": {
        "id": "72PZSHKIeCYh"
      }
    },
    {
      "cell_type": "code",
      "source": [
        "#Example of return and concatenation of string in a function\n",
        "def func():\n",
        "  return \"This is my first Function\"\n",
        "func()\n",
        "func() + \" in Python\"\n",
        "\n"
      ],
      "metadata": {
        "colab": {
          "base_uri": "https://localhost:8080/",
          "height": 35
        },
        "id": "EIFa94OEfrjK",
        "outputId": "f7e614e1-56aa-45a2-f2d1-21d7385d0082"
      },
      "execution_count": null,
      "outputs": [
        {
          "output_type": "execute_result",
          "data": {
            "text/plain": [
              "'This is my first Function in Python'"
            ],
            "application/vnd.google.colaboratory.intrinsic+json": {
              "type": "string"
            }
          },
          "metadata": {},
          "execution_count": 39
        }
      ]
    },
    {
      "cell_type": "code",
      "source": [
        "def sum(a,b):\n",
        "  return a+b\n",
        "sum(5,6)"
      ],
      "metadata": {
        "colab": {
          "base_uri": "https://localhost:8080/"
        },
        "id": "VqsxLf4jgJgr",
        "outputId": "e8bb9c27-1092-4e72-dee1-db624c28c1c9"
      },
      "execution_count": null,
      "outputs": [
        {
          "output_type": "execute_result",
          "data": {
            "text/plain": [
              "11"
            ]
          },
          "metadata": {},
          "execution_count": 40
        }
      ]
    },
    {
      "cell_type": "markdown",
      "source": [
        "**Ques 5-** What are iterators in Python and how do they differ from iterables?"
      ],
      "metadata": {
        "id": "ZNfA3pNIg352"
      }
    },
    {
      "cell_type": "markdown",
      "source": [
        "Ans- An **iterator** is an object that allows traversal through a countable number of values. It is used to iterate over iterable objects like like lists, tupples, sets, etc.\n",
        "An **iterator** is an object representing a stream of data and its work is to return the data one by one. Eg- Objects obtained via iter() function from an iterable.\n",
        "\n",
        "An **iterable** is any python object or sequential structure or data structure that is capable of returning its members one at a time permitting it to be iterated over in a for loop. Eg- lists,tupples,etc.\n",
        "\n",
        "An **iterable** can be passed to a loop to iterate over items whereas **iterator** is used to iterate through an iterable's elements manually.\n",
        "\n",
        "An **iterable** does not maintain iteration state whereas **iterators** maintains the state of where it is in the iteration process.\n",
        "\n",
        "**Iterables** can be reused after iteration(in loops) whereas an** iterator** once exhausted, it raises Stop Iteration and cannot be reused.\n",
        "\n"
      ],
      "metadata": {
        "id": "iqLZZ8e5iP-A"
      }
    },
    {
      "cell_type": "code",
      "source": [
        "s= \"pwskills\"\n",
        "for i in s:\n",
        "  print(i)"
      ],
      "metadata": {
        "colab": {
          "base_uri": "https://localhost:8080/"
        },
        "id": "zyHz5nD6ladu",
        "outputId": "fccd7765-bb8d-4594-95fa-3b4adef2f1ec"
      },
      "execution_count": null,
      "outputs": [
        {
          "output_type": "stream",
          "name": "stdout",
          "text": [
            "p\n",
            "w\n",
            "s\n",
            "k\n",
            "i\n",
            "l\n",
            "l\n",
            "s\n"
          ]
        }
      ]
    },
    {
      "cell_type": "code",
      "source": [
        "na_me = \"Vanya\"\n",
        "it = iter(na_me)\n",
        "print(next(it))\n",
        "print(next(it))\n",
        "print(next(it))\n",
        "print(next(it))\n",
        "print(next(it))\n",
        "print(next(it))"
      ],
      "metadata": {
        "colab": {
          "base_uri": "https://localhost:8080/",
          "height": 263
        },
        "id": "a7QuSxYTlnPB",
        "outputId": "754a8d21-aa36-4a0d-c644-a72b5817ecdc"
      },
      "execution_count": null,
      "outputs": [
        {
          "output_type": "stream",
          "name": "stdout",
          "text": [
            "V\n",
            "a\n",
            "n\n",
            "y\n",
            "a\n"
          ]
        },
        {
          "output_type": "error",
          "ename": "StopIteration",
          "evalue": "",
          "traceback": [
            "\u001b[0;31m---------------------------------------------------------------------------\u001b[0m",
            "\u001b[0;31mStopIteration\u001b[0m                             Traceback (most recent call last)",
            "\u001b[0;32m<ipython-input-43-0f4e19fe2dd1>\u001b[0m in \u001b[0;36m<cell line: 8>\u001b[0;34m()\u001b[0m\n\u001b[1;32m      6\u001b[0m \u001b[0mprint\u001b[0m\u001b[0;34m(\u001b[0m\u001b[0mnext\u001b[0m\u001b[0;34m(\u001b[0m\u001b[0mit\u001b[0m\u001b[0;34m)\u001b[0m\u001b[0;34m)\u001b[0m\u001b[0;34m\u001b[0m\u001b[0;34m\u001b[0m\u001b[0m\n\u001b[1;32m      7\u001b[0m \u001b[0mprint\u001b[0m\u001b[0;34m(\u001b[0m\u001b[0mnext\u001b[0m\u001b[0;34m(\u001b[0m\u001b[0mit\u001b[0m\u001b[0;34m)\u001b[0m\u001b[0;34m)\u001b[0m\u001b[0;34m\u001b[0m\u001b[0;34m\u001b[0m\u001b[0m\n\u001b[0;32m----> 8\u001b[0;31m \u001b[0mprint\u001b[0m\u001b[0;34m(\u001b[0m\u001b[0mnext\u001b[0m\u001b[0;34m(\u001b[0m\u001b[0mit\u001b[0m\u001b[0;34m)\u001b[0m\u001b[0;34m)\u001b[0m\u001b[0;34m\u001b[0m\u001b[0;34m\u001b[0m\u001b[0m\n\u001b[0m",
            "\u001b[0;31mStopIteration\u001b[0m: "
          ]
        }
      ]
    },
    {
      "cell_type": "markdown",
      "source": [],
      "metadata": {
        "id": "F_KSdJG0mCcp"
      }
    },
    {
      "cell_type": "markdown",
      "source": [
        "**Ques 6-** Explain the concept of generators in Python and how they are defined."
      ],
      "metadata": {
        "id": "5l79GOqgmCjq"
      }
    },
    {
      "cell_type": "markdown",
      "source": [
        "Ans- Generators are a simple way to create iterators using function and the yield keyword instead of returning values. Unlike return statement, which exits the function, yield returns the value and pauses the function's state , allowing it to reume from where it left off. Functions can yield multiple values over time, producing a sequence of results.\n",
        "\n",
        "Generators produce values one at a time and only when required, avoiding the need to generate or store all values upfront. They use minimal memory.\n",
        "\n",
        "Generators return data in an iterable format, allowing the sequence to be iterated over ,much like a list or tupple.\n",
        "\n",
        "The only difference between Regular Function and Generator Function is that Regular Function uses 'Return' keyword and Generator Function uses 'Yield' keyword."
      ],
      "metadata": {
        "id": "-r1pQT-pmPmX"
      }
    },
    {
      "cell_type": "code",
      "source": [
        "def square_numbers_generator(n):\n",
        "  for i in range(n):\n",
        "    yield i**2\n",
        "square_numbers_generator(5)"
      ],
      "metadata": {
        "colab": {
          "base_uri": "https://localhost:8080/"
        },
        "id": "zXUJtb-8q3IX",
        "outputId": "efa3a1f4-2866-458c-e502-f6e799fa3190"
      },
      "execution_count": null,
      "outputs": [
        {
          "output_type": "execute_result",
          "data": {
            "text/plain": [
              "<generator object square_numbers_generator at 0x7a509592c9e0>"
            ]
          },
          "metadata": {},
          "execution_count": 44
        }
      ]
    },
    {
      "cell_type": "code",
      "source": [
        "gen= square_numbers_generator(5)"
      ],
      "metadata": {
        "id": "SFo5gEkwrF1r"
      },
      "execution_count": null,
      "outputs": []
    },
    {
      "cell_type": "code",
      "source": [
        "next(gen)"
      ],
      "metadata": {
        "colab": {
          "base_uri": "https://localhost:8080/"
        },
        "id": "Xu0fnuBjrLWL",
        "outputId": "23163580-1c38-4a22-ffa0-1b177b4ca282"
      },
      "execution_count": null,
      "outputs": [
        {
          "output_type": "execute_result",
          "data": {
            "text/plain": [
              "0"
            ]
          },
          "metadata": {},
          "execution_count": 46
        }
      ]
    },
    {
      "cell_type": "code",
      "source": [
        "next(gen)"
      ],
      "metadata": {
        "colab": {
          "base_uri": "https://localhost:8080/"
        },
        "id": "nKTVF6xkrNrC",
        "outputId": "71224660-387e-4ba0-e9a7-91c90b763a8f"
      },
      "execution_count": null,
      "outputs": [
        {
          "output_type": "execute_result",
          "data": {
            "text/plain": [
              "1"
            ]
          },
          "metadata": {},
          "execution_count": 47
        }
      ]
    },
    {
      "cell_type": "markdown",
      "source": [
        "**Ques 7-** What are the advantages of using generators over regular functions?"
      ],
      "metadata": {
        "id": "lQAbYTORrpha"
      }
    },
    {
      "cell_type": "markdown",
      "source": [
        "Ans- The advantages of using generators over regular functions are-\n",
        "- Regular function uses 'Return' keyword and returns the value in one go whereas Generators use 'Yield' keyword returns a values and pauses the function's state,allowing it to resume from where it left off.\n",
        "- They produce values one at a time and only when required, avoiding the need to generate and store all values upfront.\n",
        "- They use minimal memory.\n",
        "- Using yield simplifies the creation of iterators, making them suitable for large datasets or infinite sequences.\n",
        "- If you take a very big number it will take very long time to be executed and return the value in Regular Function. If there is lot of computation then it will take a lot of execution time as the computations will be done first and then the calculation will be returned in one go.Generator Functions are beneficial in this case.\n"
      ],
      "metadata": {
        "id": "ynNKyqUVr6bi"
      }
    },
    {
      "cell_type": "markdown",
      "source": [
        "**Ques 8 -**What is a Lambda Function in Python and when it is typically used?"
      ],
      "metadata": {
        "id": "NYFeThdgulR3"
      }
    },
    {
      "cell_type": "markdown",
      "source": [
        "Ans- Lambda Functions are small anonymous functions defined using lambda keyword. They are used for creating small, throwaway functions without the need to  formally define a function usinf def.\n",
        "\n",
        "**Lambda Function is used in following cases-**\n",
        "- When you need a function that performs a small task, like adding two numbers, filtering or mapping over a list.\n",
        "- Lambda Functions are commonly used with functions like map() and filter() which take another function as an argument.\n",
        "- When you don't want to define a full function because it is only going to be used once and doesn't need a name."
      ],
      "metadata": {
        "id": "WbSWfahivhCZ"
      }
    },
    {
      "cell_type": "code",
      "source": [
        "square = lambda x: x ** 2\n",
        "square(5)"
      ],
      "metadata": {
        "colab": {
          "base_uri": "https://localhost:8080/"
        },
        "id": "STfpwHsmxCbE",
        "outputId": "3dcf672d-bced-4e98-a81a-6d2fe80d3c83"
      },
      "execution_count": null,
      "outputs": [
        {
          "output_type": "execute_result",
          "data": {
            "text/plain": [
              "25"
            ]
          },
          "metadata": {},
          "execution_count": 51
        }
      ]
    },
    {
      "cell_type": "code",
      "source": [
        "is_even = lambda x: x % 2 == 0\n",
        "is_even(4)"
      ],
      "metadata": {
        "colab": {
          "base_uri": "https://localhost:8080/"
        },
        "id": "n-RuqbgIxInV",
        "outputId": "542b803b-e9eb-4a79-db3f-1f7c8e2a84b8"
      },
      "execution_count": null,
      "outputs": [
        {
          "output_type": "execute_result",
          "data": {
            "text/plain": [
              "True"
            ]
          },
          "metadata": {},
          "execution_count": 52
        }
      ]
    },
    {
      "cell_type": "code",
      "source": [
        "list_= [1,2,3,4,5,6,7,8,9,10]\n",
        "list(map(lambda x: x**2,list_))"
      ],
      "metadata": {
        "colab": {
          "base_uri": "https://localhost:8080/"
        },
        "id": "f1diT0tkxOkI",
        "outputId": "9a45c333-e414-4f54-e142-febf9009ff6e"
      },
      "execution_count": null,
      "outputs": [
        {
          "output_type": "execute_result",
          "data": {
            "text/plain": [
              "[1, 4, 9, 16, 25, 36, 49, 64, 81, 100]"
            ]
          },
          "metadata": {},
          "execution_count": 53
        }
      ]
    },
    {
      "cell_type": "code",
      "source": [
        "list(filter(lambda x: x%2==0,list_))"
      ],
      "metadata": {
        "colab": {
          "base_uri": "https://localhost:8080/"
        },
        "id": "wTWEKREzxiqw",
        "outputId": "4b0ebc44-0779-4053-c808-928cb118a60a"
      },
      "execution_count": null,
      "outputs": [
        {
          "output_type": "execute_result",
          "data": {
            "text/plain": [
              "[2, 4, 6, 8, 10]"
            ]
          },
          "metadata": {},
          "execution_count": 54
        }
      ]
    },
    {
      "cell_type": "markdown",
      "source": [
        "**Ques 9-**Explain the purpose and usage of map() Function in Python."
      ],
      "metadata": {
        "id": "JGxUk_g0xxTM"
      }
    },
    {
      "cell_type": "markdown",
      "source": [
        "Ans- The Map Function applies a given Function to all items in an input iterable by applying the specified function.\n",
        "\n",
        "Purpose-\n",
        "- It is used to transform each item in an iterable by applying the specified function.\n",
        "\n",
        "Usage-\n",
        "- Syntax-- map(function, iterable)\n",
        "\n",
        "Examples are as follows-"
      ],
      "metadata": {
        "id": "CteiFPHryAoc"
      }
    },
    {
      "cell_type": "code",
      "source": [
        "list(map(lambda x: x**2, range(10)))\n"
      ],
      "metadata": {
        "colab": {
          "base_uri": "https://localhost:8080/"
        },
        "id": "_MHGEc4dzHAJ",
        "outputId": "d8689e4e-f5d9-4b49-fe02-769e21c4c3fe"
      },
      "execution_count": null,
      "outputs": [
        {
          "output_type": "execute_result",
          "data": {
            "text/plain": [
              "[0, 1, 4, 9, 16, 25, 36, 49, 64, 81]"
            ]
          },
          "metadata": {},
          "execution_count": 55
        }
      ]
    },
    {
      "cell_type": "code",
      "source": [
        "list(map(lambda x: x%2==0, list_))"
      ],
      "metadata": {
        "colab": {
          "base_uri": "https://localhost:8080/"
        },
        "id": "I6UP83mXzXBa",
        "outputId": "366b50af-4cae-4736-c597-cbecf71828c1"
      },
      "execution_count": null,
      "outputs": [
        {
          "output_type": "execute_result",
          "data": {
            "text/plain": [
              "[False, True, False, True, False, True, False, True, False, True]"
            ]
          },
          "metadata": {},
          "execution_count": 56
        }
      ]
    },
    {
      "cell_type": "markdown",
      "source": [
        "**Ques 10-** What is the difference between map(), reduce() and filter() functions in Python?"
      ],
      "metadata": {
        "id": "QGbe9MQNzsnc"
      }
    },
    {
      "cell_type": "markdown",
      "source": [
        "Ans- Difference is as follows-\n",
        "**Definition**\n",
        "- map()- The map function applies a given function to all items in an input iterable(like a list) and returns an iterator with the results.\n",
        "- reduce()- The reduce function from the functools module applies a given function cumulatively to the items of a sequence, from left to right, to reduce the sequence to a single value.\n",
        "- filter()- The filter function constructs an iterator from elements of an iterable for which a specified function returns True.\n",
        "\n",
        "**Purpose**\n",
        "-map()- Used to transform each item in an iterable by applying the specified function.\n",
        "- reduce()- It reduces an iterable to a single cumulative value by applying the function cumulatively.\n",
        "- filter()- Used for filtering elements from an iterable based on a condition defined by the function.\n",
        "\n",
        "**Syntax**\n",
        "-map()- map(function,iterable)\n",
        "-reduce()- from functools import reduce\n",
        "\n",
        "          reduce(function,iterable)\n",
        "-filter()- filter(function,iterable)\n",
        "\n",
        "**Examples are as follows-**"
      ],
      "metadata": {
        "id": "EEFm0R71z9wY"
      }
    },
    {
      "cell_type": "code",
      "source": [
        "#Map Function\n",
        "list(map(lambda x: x**2, range(10)))"
      ],
      "metadata": {
        "colab": {
          "base_uri": "https://localhost:8080/"
        },
        "id": "7bRGmlHV2gSp",
        "outputId": "4d3372b9-c0f0-4885-8901-2183cdee8eba"
      },
      "execution_count": null,
      "outputs": [
        {
          "output_type": "execute_result",
          "data": {
            "text/plain": [
              "[0, 1, 4, 9, 16, 25, 36, 49, 64, 81]"
            ]
          },
          "metadata": {},
          "execution_count": 57
        }
      ]
    },
    {
      "cell_type": "code",
      "source": [
        "# Reduce Function\n",
        "from functools import reduce\n",
        "reduce(lambda x,y: x+y, list_)"
      ],
      "metadata": {
        "colab": {
          "base_uri": "https://localhost:8080/"
        },
        "id": "eJh4Hnms2muR",
        "outputId": "06336845-ceb7-498c-acf6-342f81621a05"
      },
      "execution_count": null,
      "outputs": [
        {
          "output_type": "execute_result",
          "data": {
            "text/plain": [
              "55"
            ]
          },
          "metadata": {},
          "execution_count": 58
        }
      ]
    },
    {
      "cell_type": "code",
      "source": [
        "# Filter Function\n",
        "list(filter(lambda x: x%2==0, list_))"
      ],
      "metadata": {
        "colab": {
          "base_uri": "https://localhost:8080/"
        },
        "id": "2iNmOJGj2tgx",
        "outputId": "1eef0936-95b0-4e47-f4b7-1553ea860d37"
      },
      "execution_count": null,
      "outputs": [
        {
          "output_type": "execute_result",
          "data": {
            "text/plain": [
              "[2, 4, 6, 8, 10]"
            ]
          },
          "metadata": {},
          "execution_count": 59
        }
      ]
    },
    {
      "cell_type": "markdown",
      "source": [
        "**Ques 11-**Using pen and paper write the internal mechanism of sum operation using reduce function on this given list: [ 47,11,42,13]"
      ],
      "metadata": {
        "id": "v0UzYCdB260f"
      }
    },
    {
      "cell_type": "markdown",
      "source": [
        "![Internal Mechanism for sum operation via reduce func in Python.jpg](data:image/jpeg;base64,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)"
      ],
      "metadata": {
        "id": "tlq3lc035V6J"
      }
    },
    {
      "cell_type": "markdown",
      "source": [
        "PRACTICAL QUESTIONS\n"
      ],
      "metadata": {
        "id": "42-rO1gLMl0d"
      }
    },
    {
      "cell_type": "code",
      "source": [
        "#1) Python Function that takes a list of numbers as inputs and returns the sum of all even numbers in list.\n",
        "def sum_even_numbers(numbers):\n",
        "    sum=0\n",
        "    for num in numbers:\n",
        "        if num%2==0:\n",
        "            sum+=num\n",
        "    return sum"
      ],
      "metadata": {
        "id": "975YEk9NPmf8"
      },
      "execution_count": null,
      "outputs": []
    },
    {
      "cell_type": "code",
      "source": [
        "numbers=[1,2,3,4,5,6,7,8]\n",
        "sum_even_numbers(numbers)"
      ],
      "metadata": {
        "colab": {
          "base_uri": "https://localhost:8080/"
        },
        "id": "Dm1tUYLCQ5bK",
        "outputId": "fc44de56-83dc-4251-f206-0ae6f6cebdd3"
      },
      "execution_count": null,
      "outputs": [
        {
          "output_type": "execute_result",
          "data": {
            "text/plain": [
              "20"
            ]
          },
          "metadata": {},
          "execution_count": 6
        }
      ]
    },
    {
      "cell_type": "code",
      "source": [
        "#2) Python function that accepts a string and returns the reverse of that string.\n",
        "def reverse_string(string):\n",
        "    return string[::-1]"
      ],
      "metadata": {
        "id": "T-3OKshCRKl5"
      },
      "execution_count": null,
      "outputs": []
    },
    {
      "cell_type": "code",
      "source": [
        "reverse_string(\"pwskills\")"
      ],
      "metadata": {
        "colab": {
          "base_uri": "https://localhost:8080/",
          "height": 35
        },
        "id": "29NeABkDSq2m",
        "outputId": "247e5f51-3d05-41d0-f888-cc6d1d8e274e"
      },
      "execution_count": null,
      "outputs": [
        {
          "output_type": "execute_result",
          "data": {
            "text/plain": [
              "'sllikswp'"
            ],
            "application/vnd.google.colaboratory.intrinsic+json": {
              "type": "string"
            }
          },
          "metadata": {},
          "execution_count": 9
        }
      ]
    },
    {
      "cell_type": "code",
      "source": [
        "#3) Python function that takes a list of integers and returns a new list containing squares of each number.\n",
        "def square_numbers(numbers):\n",
        "    squares=[]\n",
        "    for num in numbers:\n",
        "        squares.append(num**2)\n",
        "    return squares"
      ],
      "metadata": {
        "id": "OYankGm8SyIo"
      },
      "execution_count": null,
      "outputs": []
    },
    {
      "cell_type": "code",
      "source": [
        "list__=[1,2,3,4,5]\n",
        "square_numbers(list__)"
      ],
      "metadata": {
        "colab": {
          "base_uri": "https://localhost:8080/"
        },
        "id": "VHj3QP_FTirS",
        "outputId": "cd7a42a1-da39-4438-daa0-dc91c0253ff1"
      },
      "execution_count": null,
      "outputs": [
        {
          "output_type": "execute_result",
          "data": {
            "text/plain": [
              "[1, 4, 9, 16, 25]"
            ]
          },
          "metadata": {},
          "execution_count": 11
        }
      ]
    },
    {
      "cell_type": "code",
      "source": [
        "#4) Python Function that checks a given number is prime or not from 1 to 200.\n",
        "def is_prime(number):\n",
        "    if number<2:\n",
        "        return False\n",
        "    for i in range(2,201):\n",
        "      if number != i:\n",
        "        if number%i==0:\n",
        "            return False\n",
        "    return True"
      ],
      "metadata": {
        "id": "Ba3atrLhTmkj"
      },
      "execution_count": null,
      "outputs": []
    },
    {
      "cell_type": "code",
      "source": [
        "is_prime(51)"
      ],
      "metadata": {
        "colab": {
          "base_uri": "https://localhost:8080/"
        },
        "id": "9hIC9-fjU2MN",
        "outputId": "dc6ed8ca-7b5c-45c7-e0aa-ce14f3d6e132"
      },
      "execution_count": null,
      "outputs": [
        {
          "output_type": "execute_result",
          "data": {
            "text/plain": [
              "False"
            ]
          },
          "metadata": {},
          "execution_count": 19
        }
      ]
    },
    {
      "cell_type": "code",
      "source": [
        "#5) Iterator class in Python that generates fibonacci sequence upto specified number of terms.\n",
        "def fib(n):\n",
        "    a,b=0,1\n",
        "    for i in range(n):\n",
        "        yield a\n",
        "        a,b=b,a+b"
      ],
      "metadata": {
        "id": "DLgsPlANU7ma"
      },
      "execution_count": 1,
      "outputs": []
    },
    {
      "cell_type": "code",
      "source": [
        "fib(10)"
      ],
      "metadata": {
        "colab": {
          "base_uri": "https://localhost:8080/"
        },
        "id": "YTXJ-Gby81X4",
        "outputId": "e609f409-b478-4d36-e24b-2085ecb15bd6"
      },
      "execution_count": 2,
      "outputs": [
        {
          "output_type": "execute_result",
          "data": {
            "text/plain": [
              "<generator object fib at 0x7b6f9dfd75a0>"
            ]
          },
          "metadata": {},
          "execution_count": 2
        }
      ]
    },
    {
      "cell_type": "code",
      "source": [
        "f= fib(10)\n"
      ],
      "metadata": {
        "id": "zvCI7g6v86LF"
      },
      "execution_count": 4,
      "outputs": []
    },
    {
      "cell_type": "code",
      "source": [
        "next(f)"
      ],
      "metadata": {
        "colab": {
          "base_uri": "https://localhost:8080/"
        },
        "id": "7-vLM-GX9AaZ",
        "outputId": "cd2452e0-77ad-4041-8c63-60109649b02e"
      },
      "execution_count": 5,
      "outputs": [
        {
          "output_type": "execute_result",
          "data": {
            "text/plain": [
              "0"
            ]
          },
          "metadata": {},
          "execution_count": 5
        }
      ]
    },
    {
      "cell_type": "code",
      "source": [
        "next(f)"
      ],
      "metadata": {
        "colab": {
          "base_uri": "https://localhost:8080/"
        },
        "id": "i1tBgCKw9MZv",
        "outputId": "cd04e9d8-6584-4413-c02c-d546b2eebee2"
      },
      "execution_count": 6,
      "outputs": [
        {
          "output_type": "execute_result",
          "data": {
            "text/plain": [
              "1"
            ]
          },
          "metadata": {},
          "execution_count": 6
        }
      ]
    },
    {
      "cell_type": "code",
      "source": [
        "next(f)"
      ],
      "metadata": {
        "colab": {
          "base_uri": "https://localhost:8080/"
        },
        "id": "uU7bZFWO9Pda",
        "outputId": "7071d107-f8a2-4dc5-cede-aa6b5cc9d711"
      },
      "execution_count": 7,
      "outputs": [
        {
          "output_type": "execute_result",
          "data": {
            "text/plain": [
              "1"
            ]
          },
          "metadata": {},
          "execution_count": 7
        }
      ]
    },
    {
      "cell_type": "code",
      "source": [
        "#6) Generator function in python that yields power of 2 upto a given exponent.\n",
        "def power_of_two(n):\n",
        "    result=[]\n",
        "    for i in range(n):\n",
        "      result.append(i**2)\n",
        "      yield result\n",
        ""
      ],
      "metadata": {
        "id": "FBu_GTf_9SdG"
      },
      "execution_count": 20,
      "outputs": []
    },
    {
      "cell_type": "code",
      "source": [
        "power_of_two(10)"
      ],
      "metadata": {
        "colab": {
          "base_uri": "https://localhost:8080/"
        },
        "id": "wPruKcJL_ghi",
        "outputId": "adc05e1a-940b-4f6f-e19d-3060659085b4"
      },
      "execution_count": 21,
      "outputs": [
        {
          "output_type": "execute_result",
          "data": {
            "text/plain": [
              "<generator object power_of_two at 0x7b6f6b033c30>"
            ]
          },
          "metadata": {},
          "execution_count": 21
        }
      ]
    },
    {
      "cell_type": "code",
      "source": [
        "p=power_of_two(10)"
      ],
      "metadata": {
        "id": "NoXCD99BAAlK"
      },
      "execution_count": 22,
      "outputs": []
    },
    {
      "cell_type": "code",
      "source": [
        "next(p)"
      ],
      "metadata": {
        "colab": {
          "base_uri": "https://localhost:8080/"
        },
        "id": "7QfDVl2YADfY",
        "outputId": "e30328c2-9dcd-47ae-cf8e-daab326d61ba"
      },
      "execution_count": 23,
      "outputs": [
        {
          "output_type": "execute_result",
          "data": {
            "text/plain": [
              "[0]"
            ]
          },
          "metadata": {},
          "execution_count": 23
        }
      ]
    },
    {
      "cell_type": "code",
      "source": [
        "next(p)"
      ],
      "metadata": {
        "colab": {
          "base_uri": "https://localhost:8080/"
        },
        "id": "Ucu3y0WmAGBm",
        "outputId": "cb5a2210-f404-4752-8609-12707f505cb7"
      },
      "execution_count": 24,
      "outputs": [
        {
          "output_type": "execute_result",
          "data": {
            "text/plain": [
              "[0, 1]"
            ]
          },
          "metadata": {},
          "execution_count": 24
        }
      ]
    },
    {
      "cell_type": "code",
      "source": [
        "next(p)"
      ],
      "metadata": {
        "colab": {
          "base_uri": "https://localhost:8080/"
        },
        "id": "834VArMCCC45",
        "outputId": "4c4230c9-35b8-4068-8ae5-917a5869cd46"
      },
      "execution_count": 25,
      "outputs": [
        {
          "output_type": "execute_result",
          "data": {
            "text/plain": [
              "[0, 1, 4]"
            ]
          },
          "metadata": {},
          "execution_count": 25
        }
      ]
    },
    {
      "cell_type": "code",
      "source": [
        "#7) generator function that reads a file line by line and yields each line as a string\n",
        "def read_file(filename):\n",
        "  for line in open(filename):\n",
        "    yield line\n"
      ],
      "metadata": {
        "id": "aNFHhYJtCFLr"
      },
      "execution_count": 26,
      "outputs": []
    },
    {
      "cell_type": "code",
      "source": [
        "# 8) lambda function in Python to sort a list of tupples based on second element of each tupple\n",
        "list_of_tuples= [(1,2),(3,4),(5,6),(7,8)]\n",
        "sorted_list=sorted(list_of_tuples,key=lambda x:x[1])\n",
        "print(sorted_list)"
      ],
      "metadata": {
        "colab": {
          "base_uri": "https://localhost:8080/"
        },
        "id": "6tEwXMIFDGa0",
        "outputId": "c143adc0-602f-4b70-acb3-09ba29ea42b5"
      },
      "execution_count": 39,
      "outputs": [
        {
          "output_type": "stream",
          "name": "stdout",
          "text": [
            "[(1, 2), (3, 4), (5, 6), (7, 8)]\n"
          ]
        }
      ]
    },
    {
      "cell_type": "code",
      "source": [
        "#9)python program that uses map to convert a list of temperature from celcius to farenheit.\n",
        "list_of_celcius=[10,20,30,40,50]\n",
        "list_of_farenheit=list(map(lambda x:(x*9/5)+32,list_of_celcius))\n",
        "print(list_of_farenheit)"
      ],
      "metadata": {
        "colab": {
          "base_uri": "https://localhost:8080/"
        },
        "id": "DN_WE8_nJJmN",
        "outputId": "47063332-5227-4124-ade4-a52ae166bb01"
      },
      "execution_count": 40,
      "outputs": [
        {
          "output_type": "stream",
          "name": "stdout",
          "text": [
            "[50.0, 68.0, 86.0, 104.0, 122.0]\n"
          ]
        }
      ]
    },
    {
      "cell_type": "code",
      "source": [
        "# 10) python program that uses filter to remove all vowels from given string.\n",
        "string=\"pwskills\"\n",
        "vowels=['a','e','i','o','u']\n",
        "filtered_string=list(filter(lambda x:x not in vowels,string))\n",
        "print(filtered_string)"
      ],
      "metadata": {
        "colab": {
          "base_uri": "https://localhost:8080/"
        },
        "id": "ZfvTKIZ5KiNt",
        "outputId": "77e9cace-480f-45ff-d12a-da84baa911f9"
      },
      "execution_count": 41,
      "outputs": [
        {
          "output_type": "stream",
          "name": "stdout",
          "text": [
            "['p', 'w', 's', 'k', 'l', 'l', 's']\n"
          ]
        }
      ]
    },
    {
      "cell_type": "code",
      "source": [],
      "metadata": {
        "id": "7DbS8BUAK7jv"
      },
      "execution_count": null,
      "outputs": []
    }
  ]
}